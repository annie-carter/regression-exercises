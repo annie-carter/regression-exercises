{
 "cells": [
  {
   "cell_type": "markdown",
   "id": "b5036070",
   "metadata": {},
   "source": [
    "# FUTURE ENGINEERING EXERCISE"
   ]
  },
  {
   "cell_type": "code",
   "execution_count": 21,
   "id": "3316a79a",
   "metadata": {},
   "outputs": [],
   "source": [
    "import pandas as pd\n",
    "import numpy as np\n",
    "import seaborn as sns\n",
    "import pydataset\n",
    "from sklearn.feature_selection import f_regression, SelectKBest, RFE\n",
    "from sklearn.linear_model import LinearRegression\n",
    "from sklearn.model_selection import train_test_split\n"
   ]
  },
  {
   "cell_type": "markdown",
   "id": "98fa51f6",
   "metadata": {},
   "source": [
    "## Load the tips dataset"
   ]
  },
  {
   "cell_type": "code",
   "execution_count": 2,
   "id": "3217d32b",
   "metadata": {},
   "outputs": [],
   "source": [
    "tips = pydataset.data('tips')"
   ]
  },
  {
   "cell_type": "markdown",
   "id": "ada1c7d1",
   "metadata": {},
   "source": [
    "### a. Create a column named price_per_person. This should be the total bill divided by the party size."
   ]
  },
  {
   "cell_type": "code",
   "execution_count": 3,
   "id": "04cb10ea",
   "metadata": {},
   "outputs": [
    {
     "data": {
      "text/html": [
       "<div>\n",
       "<style scoped>\n",
       "    .dataframe tbody tr th:only-of-type {\n",
       "        vertical-align: middle;\n",
       "    }\n",
       "\n",
       "    .dataframe tbody tr th {\n",
       "        vertical-align: top;\n",
       "    }\n",
       "\n",
       "    .dataframe thead th {\n",
       "        text-align: right;\n",
       "    }\n",
       "</style>\n",
       "<table border=\"1\" class=\"dataframe\">\n",
       "  <thead>\n",
       "    <tr style=\"text-align: right;\">\n",
       "      <th></th>\n",
       "      <th>total_bill</th>\n",
       "      <th>tip</th>\n",
       "      <th>sex</th>\n",
       "      <th>smoker</th>\n",
       "      <th>day</th>\n",
       "      <th>time</th>\n",
       "      <th>size</th>\n",
       "      <th>price_per_person</th>\n",
       "    </tr>\n",
       "  </thead>\n",
       "  <tbody>\n",
       "    <tr>\n",
       "      <th>1</th>\n",
       "      <td>16.99</td>\n",
       "      <td>1.01</td>\n",
       "      <td>Female</td>\n",
       "      <td>No</td>\n",
       "      <td>Sun</td>\n",
       "      <td>Dinner</td>\n",
       "      <td>2</td>\n",
       "      <td>0.009947</td>\n",
       "    </tr>\n",
       "    <tr>\n",
       "      <th>2</th>\n",
       "      <td>10.34</td>\n",
       "      <td>1.66</td>\n",
       "      <td>Male</td>\n",
       "      <td>No</td>\n",
       "      <td>Sun</td>\n",
       "      <td>Dinner</td>\n",
       "      <td>3</td>\n",
       "      <td>0.006054</td>\n",
       "    </tr>\n",
       "    <tr>\n",
       "      <th>3</th>\n",
       "      <td>21.01</td>\n",
       "      <td>3.50</td>\n",
       "      <td>Male</td>\n",
       "      <td>No</td>\n",
       "      <td>Sun</td>\n",
       "      <td>Dinner</td>\n",
       "      <td>3</td>\n",
       "      <td>0.012301</td>\n",
       "    </tr>\n",
       "    <tr>\n",
       "      <th>4</th>\n",
       "      <td>23.68</td>\n",
       "      <td>3.31</td>\n",
       "      <td>Male</td>\n",
       "      <td>No</td>\n",
       "      <td>Sun</td>\n",
       "      <td>Dinner</td>\n",
       "      <td>2</td>\n",
       "      <td>0.013864</td>\n",
       "    </tr>\n",
       "    <tr>\n",
       "      <th>5</th>\n",
       "      <td>24.59</td>\n",
       "      <td>3.61</td>\n",
       "      <td>Female</td>\n",
       "      <td>No</td>\n",
       "      <td>Sun</td>\n",
       "      <td>Dinner</td>\n",
       "      <td>4</td>\n",
       "      <td>0.014397</td>\n",
       "    </tr>\n",
       "  </tbody>\n",
       "</table>\n",
       "</div>"
      ],
      "text/plain": [
       "   total_bill   tip     sex smoker  day    time  size  price_per_person\n",
       "1       16.99  1.01  Female     No  Sun  Dinner     2          0.009947\n",
       "2       10.34  1.66    Male     No  Sun  Dinner     3          0.006054\n",
       "3       21.01  3.50    Male     No  Sun  Dinner     3          0.012301\n",
       "4       23.68  3.31    Male     No  Sun  Dinner     2          0.013864\n",
       "5       24.59  3.61  Female     No  Sun  Dinner     4          0.014397"
      ]
     },
     "execution_count": 3,
     "metadata": {},
     "output_type": "execute_result"
    }
   ],
   "source": [
    "tips['price_per_person'] = tips.total_bill / tips.size\n",
    "tips.head()"
   ]
  },
  {
   "cell_type": "markdown",
   "id": "f359e983",
   "metadata": {},
   "source": [
    "### b. Before using any of the methods discussed in the lesson, which features do you think would be most important for predicting the tip amount? "
   ]
  },
  {
   "cell_type": "markdown",
   "id": "a40d4261",
   "metadata": {},
   "source": [
    " Total_bill and tip "
   ]
  },
  {
   "cell_type": "markdown",
   "id": "9e892c4e",
   "metadata": {},
   "source": [
    "### c. Use select k best to select the top 2 features for predicting tip amount. What are they?"
   ]
  },
  {
   "cell_type": "code",
   "execution_count": 4,
   "id": "e59fbc98",
   "metadata": {},
   "outputs": [],
   "source": [
    "X = tips[['size', 'total_bill', 'price_per_person']]\n",
    "y = tips.tip"
   ]
  },
  {
   "cell_type": "code",
   "execution_count": 10,
   "id": "3f261c07",
   "metadata": {},
   "outputs": [
    {
     "name": "stdout",
     "output_type": "stream",
     "text": [
      "Top 2 features from k-best:\n"
     ]
    },
    {
     "data": {
      "text/plain": [
       "Index(['total_bill', 'price_per_person'], dtype='object')"
      ]
     },
     "execution_count": 10,
     "metadata": {},
     "output_type": "execute_result"
    }
   ],
   "source": [
    "kbest = SelectKBest(f_regression, k=2)\n",
    "kbest.fit(X, y)\n",
    "print('Top 2 features from k-best:')\n",
    "X.columns[kbest.get_support()]"
   ]
  },
  {
   "cell_type": "markdown",
   "id": "053223c5",
   "metadata": {},
   "source": [
    "### d. Use recursive feature elimination to select the top 2 features for tip amount. What are they?"
   ]
  },
  {
   "cell_type": "code",
   "execution_count": 11,
   "id": "dcfc5ae6",
   "metadata": {},
   "outputs": [
    {
     "name": "stdout",
     "output_type": "stream",
     "text": [
      "Top 2 features according to RFE:\n"
     ]
    },
    {
     "data": {
      "text/plain": [
       "Index(['size', 'total_bill'], dtype='object')"
      ]
     },
     "execution_count": 11,
     "metadata": {},
     "output_type": "execute_result"
    }
   ],
   "source": [
    "lr = LinearRegression()\n",
    "rfe = RFE(lr, n_features_to_select=2).fit(X, y)\n",
    "print('Top 2 features according to RFE:')\n",
    "X.columns[rfe.get_support()]"
   ]
  },
  {
   "cell_type": "markdown",
   "id": "8026788c",
   "metadata": {},
   "source": [
    "## 2. Write a function named select_kbest that takes in the predictors (X), the target (y), and the number of features to select (k) and returns the names of the top k selected features based on the SelectKBest class. Test your function with the tips dataset. You should see the same results as when you did the process manually."
   ]
  },
  {
   "cell_type": "code",
   "execution_count": 12,
   "id": "f33f4170",
   "metadata": {},
   "outputs": [],
   "source": [
    "def select_kbest(X, y, k):\n",
    "    kbest = SelectKBest(k=k)\n",
    "    kbest.fit(X, y)\n",
    "    mask = kbest.get_support()\n",
    "    return X.columns[mask]"
   ]
  },
  {
   "cell_type": "code",
   "execution_count": 13,
   "id": "125dec50",
   "metadata": {},
   "outputs": [
    {
     "data": {
      "text/plain": [
       "Index(['total_bill', 'price_per_person'], dtype='object')"
      ]
     },
     "execution_count": 13,
     "metadata": {},
     "output_type": "execute_result"
    }
   ],
   "source": [
    "select_kbest(tips[['total_bill', 'price_per_person', 'size']], tips.tip, 2)"
   ]
  },
  {
   "cell_type": "markdown",
   "id": "ee9fc881",
   "metadata": {},
   "source": [
    "## 3. Write a function named rfe that takes in the predictors, the target, and the number of features to select. It should return the top k features based on the RFE class. Test your function with the tips dataset. You should see the same results as when you did the process manually."
   ]
  },
  {
   "cell_type": "code",
   "execution_count": 14,
   "id": "eea45d88",
   "metadata": {},
   "outputs": [],
   "source": [
    "def rfe(X, y, k, lr=LinearRegression()):\n",
    "    rfe = RFE(lr, n_features_to_select=k)\n",
    "    rfe.fit(X, y)\n",
    "    mask = rfe.get_support()\n",
    "    return X.columns[mask]"
   ]
  },
  {
   "cell_type": "code",
   "execution_count": 15,
   "id": "e847ae6c",
   "metadata": {},
   "outputs": [
    {
     "data": {
      "text/plain": [
       "Index(['total_bill', 'size'], dtype='object')"
      ]
     },
     "execution_count": 15,
     "metadata": {},
     "output_type": "execute_result"
    }
   ],
   "source": [
    "rfe(tips[['total_bill', 'price_per_person', 'size']], tips.tip, 2)"
   ]
  },
  {
   "cell_type": "markdown",
   "id": "e15183f0",
   "metadata": {},
   "source": [
    "## 4. Load the swiss dataset and use all the other features to predict Fertility. Find the top 3 features using both select k best and recursive feature elimination (use the functions you just built to help you out)."
   ]
  },
  {
   "cell_type": "code",
   "execution_count": 16,
   "id": "4cbeda4e",
   "metadata": {},
   "outputs": [
    {
     "name": "stdout",
     "output_type": "stream",
     "text": [
      "train: 29 | validate: 8 | test: 10\n"
     ]
    }
   ],
   "source": [
    "swiss = pydataset.data('swiss')\n",
    "train_validate, test = train_test_split(swiss, random_state=123, test_size=.2)\n",
    "train, validate = train_test_split(train_validate, random_state=123, test_size=.2)\n",
    "\n",
    "print(f'train: {train.shape[0]} | validate: {validate.shape[0]} | test: {test.shape[0]}')"
   ]
  },
  {
   "cell_type": "code",
   "execution_count": 17,
   "id": "05bc742f",
   "metadata": {},
   "outputs": [],
   "source": [
    "X_train = train.drop(columns='Fertility')\n",
    "y_train = train.Fertility"
   ]
  },
  {
   "cell_type": "code",
   "execution_count": 18,
   "id": "f78d9abd",
   "metadata": {},
   "outputs": [
    {
     "name": "stderr",
     "output_type": "stream",
     "text": [
      "/opt/homebrew/anaconda3/lib/python3.10/site-packages/sklearn/feature_selection/_univariate_selection.py:109: RuntimeWarning: invalid value encountered in divide\n",
      "  msw = sswn / float(dfwn)\n"
     ]
    },
    {
     "data": {
      "text/plain": [
       "Index(['Education', 'Catholic', 'Infant.Mortality'], dtype='object')"
      ]
     },
     "execution_count": 18,
     "metadata": {},
     "output_type": "execute_result"
    }
   ],
   "source": [
    "select_kbest(X_train, y_train, 3)"
   ]
  },
  {
   "cell_type": "code",
   "execution_count": 19,
   "id": "e0d385d1",
   "metadata": {},
   "outputs": [
    {
     "data": {
      "text/plain": [
       "Index(['Examination', 'Education', 'Infant.Mortality'], dtype='object')"
      ]
     },
     "execution_count": 19,
     "metadata": {},
     "output_type": "execute_result"
    }
   ],
   "source": [
    "rfe(X_train, y_train, 3)"
   ]
  }
 ],
 "metadata": {
  "kernelspec": {
   "display_name": "Python 3 (ipykernel)",
   "language": "python",
   "name": "python3"
  },
  "language_info": {
   "codemirror_mode": {
    "name": "ipython",
    "version": 3
   },
   "file_extension": ".py",
   "mimetype": "text/x-python",
   "name": "python",
   "nbconvert_exporter": "python",
   "pygments_lexer": "ipython3",
   "version": "3.10.9"
  }
 },
 "nbformat": 4,
 "nbformat_minor": 5
}
