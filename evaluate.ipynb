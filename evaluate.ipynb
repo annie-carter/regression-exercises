{
 "cells": [
  {
   "cell_type": "markdown",
   "id": "ad50e72d",
   "metadata": {},
   "source": [
    "#  <span style=\"color:blue\">Evaluating Regression Models "
   ]
  },
  {
   "cell_type": "markdown",
   "id": "89d6de13",
   "metadata": {},
   "source": [
    "First things first, wrote the setting"
   ]
  },
  {
   "cell_type": "code",
   "execution_count": null,
   "id": "07bcc300",
   "metadata": {},
   "outputs": [],
   "source": [
    "import pandas as pd\n",
    "import numpy as np\n",
    "import os\n",
    "from env import hostname, user, password\n",
    "\n",
    "\n",
    "from sklearn.model_selection import train_test_split\n",
    "from sklearn.impute import SimpleImputer\n",
    "from sklearn.preprocessing import MinMaxScaler, StandardScaler, RobustScaler\n",
    "\n",
    "import wrangle \n",
    "import warnings \n",
    "warnings.filterwarnings(\"ignore\")\n",
    "import statsmodels.api as sm\n",
    "from sklearn.linear_model import LinearRegression"
   ]
  },
  {
   "cell_type": "markdown",
   "id": "ed1d8b87",
   "metadata": {},
   "source": [
    "## <span style=\"color:blue\">1.Load your zillow dataset."
   ]
  },
  {
   "cell_type": "markdown",
   "id": "3ccfb39a",
   "metadata": {},
   "source": [
    "### ACQUIRE"
   ]
  },
  {
   "cell_type": "code",
   "execution_count": null,
   "id": "99fd235c",
   "metadata": {},
   "outputs": [],
   "source": [
    "df = wrangle.get_zillow_data()\n",
    "df.head()"
   ]
  },
  {
   "cell_type": "code",
   "execution_count": null,
   "id": "7074f620",
   "metadata": {},
   "outputs": [],
   "source": [
    "df.shape"
   ]
  },
  {
   "cell_type": "code",
   "execution_count": null,
   "id": "ee6ca185",
   "metadata": {},
   "outputs": [],
   "source": [
    "df = wrangle.prep_zillow(df)\n",
    "df.head()"
   ]
  },
  {
   "cell_type": "code",
   "execution_count": null,
   "id": "3efd5c92",
   "metadata": {},
   "outputs": [],
   "source": [
    "df = wrangle.wrangled_zillow(df)\n",
    "df.head()"
   ]
  },
  {
   "cell_type": "code",
   "execution_count": null,
   "id": "0e85a28a",
   "metadata": {},
   "outputs": [],
   "source": [
    "df = wrangle.dtype_zillow(df)\n",
    "df.info()"
   ]
  },
  {
   "cell_type": "code",
   "execution_count": null,
   "id": "ee8ce89f",
   "metadata": {},
   "outputs": [],
   "source": [
    "df.shape"
   ]
  },
  {
   "cell_type": "code",
   "execution_count": null,
   "id": "283e2c94",
   "metadata": {},
   "outputs": [],
   "source": [
    "train, validate, test = wrangle.split_zillow(df)"
   ]
  },
  {
   "cell_type": "code",
   "execution_count": null,
   "id": "569d2ea0",
   "metadata": {},
   "outputs": [],
   "source": [
    "print(f\"train: {train.shape}\")\n",
    "print(f\"validate: {validate.shape}\")\n",
    "print(f\"test: {test.shape}\")"
   ]
  },
  {
   "cell_type": "markdown",
   "id": "c0b56440",
   "metadata": {},
   "source": [
    "## <span style=\"color:blue\">2. Fit a linear regression model (ordinary least squares) and compute yhat, predictions of taxvaluedollarcnt (home_value using only calculatedfinishedsqft (sqft)."
   ]
  },
  {
   "cell_type": "markdown",
   "id": "8e6a3b33",
   "metadata": {},
   "source": [
    "Fit an OLS regression model using the sqft feature to predict home_value. Compute the predicted values (yhat) for the home_value using the trained model."
   ]
  },
  {
   "cell_type": "code",
   "execution_count": null,
   "id": "2469eddd",
   "metadata": {},
   "outputs": [],
   "source": []
  },
  {
   "cell_type": "code",
   "execution_count": null,
   "id": "2839c94d",
   "metadata": {},
   "outputs": [],
   "source": [
    "y=train[\"home_value\"] #target\n",
    "x=train[\"sqft\"] # measured feature\n"
   ]
  },
  {
   "cell_type": "code",
   "execution_count": null,
   "id": "6c923ab5",
   "metadata": {},
   "outputs": [],
   "source": [
    "X_train = train['sqft']\n",
    "y_train = train['home_value']\n",
    "\n",
    "X_validate = validate['sqft']\n",
    "y_validate = validate['home_value']\n",
    "\n",
    "X_test = test['sqft']\n",
    "y_test = test['home_value']"
   ]
  },
  {
   "cell_type": "code",
   "execution_count": null,
   "id": "e6523ac5",
   "metadata": {},
   "outputs": [],
   "source": [
    "X_train.head()"
   ]
  },
  {
   "cell_type": "code",
   "execution_count": null,
   "id": "fba5b05a",
   "metadata": {},
   "outputs": [],
   "source": [
    "y_train"
   ]
  },
  {
   "cell_type": "markdown",
   "id": "93f3eedd",
   "metadata": {},
   "source": [
    "##### <span style = \"color:blue\"> Turn into one dimensional arrays"
   ]
  },
  {
   "cell_type": "code",
   "execution_count": null,
   "id": "9777dbbc",
   "metadata": {},
   "outputs": [],
   "source": [
    "# assuming X and y are already defined\n",
    "model = LinearRegression().fit(x, y)\n",
    "predictions = model.predict(x)"
   ]
  },
  {
   "cell_type": "markdown",
   "id": "8cd43d82",
   "metadata": {},
   "source": [
    "## Plot linear regression models"
   ]
  },
  {
   "cell_type": "code",
   "execution_count": null,
   "id": "5546abbd",
   "metadata": {},
   "outputs": [],
   "source": [
    "# look at scatter of x vs y\n",
    "plt.scatter(x, y)\n",
    "plt.xlabel('x = sqft')\n",
    "plt.ylabel('y = home_value');"
   ]
  },
  {
   "cell_type": "markdown",
   "id": "c2b309e6",
   "metadata": {},
   "source": [
    "Scatterplot shows outliers houses of 20k calculated finished square feet"
   ]
  },
  {
   "cell_type": "code",
   "execution_count": null,
   "id": "b7b2b484",
   "metadata": {},
   "outputs": [],
   "source": [
    "baseline = y.mean()\n",
    "baseline"
   ]
  },
  {
   "cell_type": "code",
   "execution_count": null,
   "id": "63d29eb4",
   "metadata": {},
   "outputs": [],
   "source": [
    "train['baseline'] = y.mean()\n",
    "train.head()"
   ]
  },
  {
   "cell_type": "code",
   "execution_count": null,
   "id": "ddc203f7",
   "metadata": {},
   "outputs": [],
   "source": [
    "baseline = train.home_value.mean()\n",
    "baseline"
   ]
  },
  {
   "cell_type": "code",
   "execution_count": null,
   "id": "ea483bba",
   "metadata": {},
   "outputs": [],
   "source": [
    "train['baseline'] = train.home_value.mean()\n",
    "train.head()"
   ]
  },
  {
   "cell_type": "code",
   "execution_count": null,
   "id": "e5ea331b",
   "metadata": {},
   "outputs": [],
   "source": [
    "plt.scatter(train.sqft, train.home_value)\n",
    "plt.axhline(train.home_value.mean(), ls = ':')\n",
    "plt.xlabel('x = Square Feet')\n",
    "plt.ylabel('y = Tax Assessed Value')\n",
    "plt.title('Baseline model');"
   ]
  },
  {
   "cell_type": "markdown",
   "id": "1dae7738",
   "metadata": {},
   "source": [
    "##### <span style = \"color:blue\">Scatterplot shows outliers houses of 20k square feet"
   ]
  },
  {
   "cell_type": "code",
   "execution_count": null,
   "id": "ac508b12",
   "metadata": {},
   "outputs": [],
   "source": [
    "model = LinearRegression().fit(X_train, y_train)\n",
    "predictions = model.predict(X_train)"
   ]
  },
  {
   "cell_type": "code",
   "execution_count": null,
   "id": "0143a08e",
   "metadata": {},
   "outputs": [],
   "source": [
    "train['yhat'] = predictions"
   ]
  },
  {
   "cell_type": "code",
   "execution_count": null,
   "id": "3be4217f",
   "metadata": {},
   "outputs": [],
   "source": [
    "train.head()"
   ]
  },
  {
   "cell_type": "code",
   "execution_count": null,
   "id": "c4bd03a6",
   "metadata": {},
   "outputs": [],
   "source": [
    "# visualize the line of best fit from OLS linear model\n",
    "plt.scatter(train.sqft, train.home_value)\n",
    "plt.plot(train.sqft, train.yhat)\n",
    "plt.xlabel('x = Square Feet')\n",
    "plt.ylabel('y = Tax Assessed Value')\n",
    "plt.title('OLS linear model');"
   ]
  },
  {
   "cell_type": "markdown",
   "id": "b7c70e8d",
   "metadata": {},
   "source": [
    "## <span style=\"color:blue\">3. Plot the residuals for the linear regression model that you made."
   ]
  },
  {
   "cell_type": "code",
   "execution_count": null,
   "id": "23fbb50f",
   "metadata": {},
   "outputs": [],
   "source": [
    "train.head()"
   ]
  },
  {
   "cell_type": "code",
   "execution_count": null,
   "id": "c9b4b22a",
   "metadata": {},
   "outputs": [],
   "source": [
    "# residual = actual - predicted\n",
    "train['residual'] = train.home_value - train.yhat\n",
    "train['baseline_residual'] = train.home_value - train.baseline"
   ]
  },
  {
   "cell_type": "code",
   "execution_count": null,
   "id": "647aad23",
   "metadata": {},
   "outputs": [],
   "source": [
    "train.head()"
   ]
  },
  {
   "cell_type": "markdown",
   "id": "dbff08e2",
   "metadata": {},
   "source": [
    "Negative Residual = Prediction  high the actual observed value is lower than the predicted value. In other words, the prediction is higher than the actual value. This indicates that the model has overestimated the target variable.\n",
    "<br>\n",
    "Positive Residual = Prediction too low"
   ]
  },
  {
   "cell_type": "code",
   "execution_count": null,
   "id": "68cfc88f",
   "metadata": {},
   "outputs": [],
   "source": [
    "# residual plots (x vs residual)\n",
    "\n",
    "plt.figure(figsize = (11,5))\n",
    "\n",
    "plt.subplot(121)\n",
    "plt.scatter(train.sqft, train.baseline_residual)\n",
    "plt.axhline(y = 0, ls = ':', color='red')\n",
    "plt.xlabel('Square Feet')\n",
    "plt.ylabel('Residual')\n",
    "plt.title('Baseline Residuals')\n",
    "\n",
    "plt.subplot(122)\n",
    "plt.scatter(train.sqft, train.residual)\n",
    "plt.axhline(y = 0, ls = ':', color ='red')\n",
    "plt.xlabel('Square Feet')\n",
    "plt.ylabel('Residual')\n",
    "plt.title('OLS model residuals');"
   ]
  },
  {
   "cell_type": "code",
   "execution_count": null,
   "id": "8a7b9e45",
   "metadata": {},
   "outputs": [],
   "source": [
    "baseline_residual_min = train.baseline_residual.min()\n",
    "baseline_residual_max = train.baseline_residual.max()\n",
    "residual_min = train.residual.min()\n",
    "residual_max = train.residual.max()"
   ]
  },
  {
   "cell_type": "code",
   "execution_count": null,
   "id": "55863080",
   "metadata": {},
   "outputs": [],
   "source": [
    "residual_min, residual_max"
   ]
  },
  {
   "cell_type": "code",
   "execution_count": null,
   "id": "a6e25dc0",
   "metadata": {},
   "outputs": [],
   "source": [
    "# residual plots (x vs residual)\n",
    "\n",
    "plt.figure(figsize = (11,5))\n",
    "\n",
    "plt.subplot(121)\n",
    "plt.scatter(train.sqft, train.baseline_residual, alpha=.05)\n",
    "plt.axhline(y = 0, ls = ':', color = 'red')\n",
    "plt.xlim(0,5000)\n",
    "plt.ylim(baseline_residual_min().astype(np.int64), baseline_residual.max().astype(np.int64))\n",
    "plt.xlabel('Square Feet')\n",
    "plt.ylabel('Residual')\n",
    "plt.title('Baseline Residuals')\n",
    "\n",
    "plt.subplot(122)\n",
    "plt.scatter(train.sqft, train.residual, alpha=0.05)\n",
    "plt.axhline(y = 0, ls = ':', color ='red')\n",
    "\n",
    "plt.xlabel('Square Feet')\n",
    "plt.ylabel('Residual')\n",
    "plt.title('OLS model residuals')\n",
    "print(\"Negative Residual = Prediction too high\")\n",
    "print(\"Positive Residual = Prediction too low\")"
   ]
  },
  {
   "cell_type": "markdown",
   "id": "e6a6d21b",
   "metadata": {},
   "source": [
    "## FINDINGS\n",
    "- Residual plot slope implies need for more predictors."
   ]
  },
  {
   "cell_type": "code",
   "execution_count": null,
   "id": "43d67846",
   "metadata": {},
   "outputs": [],
   "source": [
    "# Residual plot (y vs residual)\n",
    "actual = train.home_value\n",
    "predicted = train.yhat\n",
    "residuals = actual - predicted\n",
    "plt.hlines(0, actual.min(), actual.max(), ls=':')\n",
    "plt.scatter(actual, residuals)\n",
    "plt.ylabel('residual ($y - \\hat{y}$)')\n",
    "plt.xlabel('actual value ($y$)')\n",
    "plt.title('Actual vs Residual')\n",
    "plt.show()"
   ]
  },
  {
   "cell_type": "markdown",
   "id": "7df4d9b7",
   "metadata": {},
   "source": [
    "## <span style=\"color:blue\">4. Calculate the sum of squared errors, explained sum of squares, total sum of squares, mean squared error, and root mean squared error for your model."
   ]
  },
  {
   "cell_type": "code",
   "execution_count": null,
   "id": "50107b61",
   "metadata": {},
   "outputs": [],
   "source": [
    "train['residual^2'] = train.residual**2\n",
    "train['baseline_residual^2'] = train.baseline_residual**2\n",
    "\n",
    "train.head()"
   ]
  },
  {
   "cell_type": "markdown",
   "id": "94a9ab7c",
   "metadata": {},
   "source": [
    "<b>\n",
    "    Calculating SSE\n",
    "</b>"
   ]
  },
  {
   "cell_type": "code",
   "execution_count": null,
   "id": "2b066b7c",
   "metadata": {},
   "outputs": [],
   "source": [
    "SSE = train['residual^2'].sum()\n",
    "SSE_baseline = train['baseline_residual^2'].sum()\n",
    "\n",
    "print('SSE =', \"{:.1f}\".format(SSE))\n",
    "print(\"SSE Baseline =\", \"{:.1f}\".format(SSE_baseline))"
   ]
  },
  {
   "cell_type": "code",
   "execution_count": null,
   "id": "efb706a6",
   "metadata": {},
   "outputs": [],
   "source": [
    "SSE < SSE_baseline"
   ]
  },
  {
   "cell_type": "markdown",
   "id": "c115b724",
   "metadata": {},
   "source": [
    "## <span style=\"color:blue\">5. Calculate the sum of squared errors, mean squared error, and root mean squared error for the baseline model (i.e. a model that always predicts the average home value amount)."
   ]
  },
  {
   "cell_type": "markdown",
   "id": "f7ff362a",
   "metadata": {},
   "source": [
    "<b>\n",
    "    \n",
    "Calculating MSE\n",
    "\n",
    "</b>"
   ]
  },
  {
   "cell_type": "code",
   "execution_count": null,
   "id": "6dd66333",
   "metadata": {},
   "outputs": [],
   "source": [
    "len(train)\n",
    "train.shape[0]"
   ]
  },
  {
   "cell_type": "code",
   "execution_count": null,
   "id": "286de663",
   "metadata": {},
   "outputs": [],
   "source": [
    "MSE = SSE/len(train)\n",
    "MSE_baseline = SSE_baseline/len(train)\n",
    "\n",
    "print(\"MSE = \", \"{:.1f}\".format(MSE))\n",
    "print(\"MSE baseline = \", \"{:.1f}\".format(MSE_baseline))"
   ]
  },
  {
   "cell_type": "markdown",
   "id": "b7edeb47",
   "metadata": {},
   "source": [
    "<b>\n",
    "    \n",
    "Calculating RMSE\n",
    "\n",
    "</b>"
   ]
  },
  {
   "cell_type": "code",
   "execution_count": null,
   "id": "bb491d7a",
   "metadata": {},
   "outputs": [],
   "source": [
    "from math import sqrt\n",
    "RMSE = sqrt(MSE)\n",
    "RMSE_baseline =  sqrt(MSE_baseline)\n",
    "\n",
    "\n",
    "print(\"RMSE = \", \"{:.1f}\".format(RMSE))\n",
    "print(\"RMSE baseline = \", \"{:.1f}\".format(RMSE_baseline))"
   ]
  },
  {
   "cell_type": "markdown",
   "id": "efff5fb8",
   "metadata": {},
   "source": [
    "##  <span style=\"color:blue\">6. Write python code that compares the sum of squared errors for your model against the sum of squared errors for the baseline model and outputs whether or not your model performs better than the baseline model."
   ]
  },
  {
   "cell_type": "code",
   "execution_count": null,
   "id": "fce087fc",
   "metadata": {},
   "outputs": [],
   "source": [
    "if SSE < SSE_baseline:\n",
    "    print('OLS Regression Model Performs Better than Baseline')\n",
    "else:\n",
    "    print('OLS Regression Model Performs Worse than Baseline')"
   ]
  },
  {
   "cell_type": "markdown",
   "id": "17ad20b1",
   "metadata": {},
   "source": [
    "##  <span style=\"color:blue\">7. What is the amount of variance explained in your model?"
   ]
  },
  {
   "cell_type": "code",
   "execution_count": null,
   "id": "5990ad46",
   "metadata": {},
   "outputs": [],
   "source": [
    "# calculate R2 manually:\n",
    "\n",
    "# Total Sum of Squares = SSE for baseline\n",
    "TSS = SSE_baseline = train['baseline_residual^2'].sum()\n",
    "\n",
    "# Sum of squared error for the regression line (Unexplained error)\n",
    "SSE = train['residual^2'].sum()\n",
    "\n",
    "# ESS - Explained sum of squares ('Explained Error')\n",
    "ESS = TSS - SSE\n",
    "\n",
    "# Calculate R2\n",
    "R2 = ESS/TSS\n",
    "R2"
   ]
  },
  {
   "cell_type": "code",
   "execution_count": null,
   "id": "783d1631",
   "metadata": {},
   "outputs": [],
   "source": [
    "# calculate R2 the easy way:\n",
    "\n",
    "from sklearn.metrics import r2_score\n",
    "r2_score(train.home_value, train.yhat)"
   ]
  },
  {
   "cell_type": "markdown",
   "id": "923a9b54",
   "metadata": {},
   "source": [
    "##  <span style=\"color:blue\">8. Is your model better than the baseline model?"
   ]
  },
  {
   "cell_type": "code",
   "execution_count": null,
   "id": "6d578ae5",
   "metadata": {},
   "outputs": [],
   "source": [
    "X2 = sm.add_constant(train.sqft)\n",
    "est = sm.OLS(train.home_value, X2)\n",
    "est2 = est.fit()\n",
    "print(est2.summary())"
   ]
  },
  {
   "cell_type": "markdown",
   "id": "3925a25d",
   "metadata": {},
   "source": [
    "The OLS Regression Model outperformed the baseline model on the test set using RMSE as the evaluation metric. The RMSE for the OLS Regression Model was 272,306.6, while the baseline model had an RMSE of 313,748.0.\n",
    "\n",
    "Despite the improvement over the baseline, the OLS Regression Model still does a poor job of accurately predicting home prices. The level of error, with a difference of hundreds of thousands of dollars, would be considered unacceptable for any buyer or seller relying on accurate price estimates.\n",
    "\n",
    "\n"
   ]
  },
  {
   "cell_type": "markdown",
   "id": "a3560421",
   "metadata": {},
   "source": [
    "##  <span style=\"color:blue\">9. Create a file named evaluate.py that contains the following functions."
   ]
  },
  {
   "cell_type": "code",
   "execution_count": null,
   "id": "da2205d4",
   "metadata": {},
   "outputs": [],
   "source": [
    "def plot_residuals(actual, predicted):\n",
    "    residuals = actual - predicted\n",
    "    plt.hlines(0, actual.min(), actual.max(), ls=':')\n",
    "    plt.scatter(actual, residuals)\n",
    "    plt.ylabel('residual ($y - \\hat{y}$)')\n",
    "    plt.xlabel('actual value ($y$)')\n",
    "    plt.title('Actual vs Residual')\n",
    "    plt.show()"
   ]
  },
  {
   "cell_type": "code",
   "execution_count": null,
   "id": "5a87200e",
   "metadata": {},
   "outputs": [],
   "source": [
    "\n",
    "def residuals(actual, predicted):\n",
    "    return actual - predicted\n",
    "\n",
    "def SSE(actual, predicted):\n",
    "    return (residuals(actual, predicted) **2).sum()\n",
    "\n",
    "def MSE(actual, predicted):\n",
    "    n = actual.shape[0]\n",
    "    return SSE(actual, predicted) / n\n",
    "\n",
    "def RMSE(actual, predicted):\n",
    "    return math.sqrt(MSE(actual, predicted))\n",
    "\n",
    "def ESS(actual, predicted):\n",
    "    return ((predicted - actual.mean()) ** 2).sum()\n",
    "\n",
    "def TSS(actual):\n",
    "    return ((actual - actual.mean()) ** 2).sum()\n",
    "\n",
    "def R2_score(actual, predicted):\n",
    "    return ess(actual, predicted) / TSS(actual)\n"
   ]
  },
  {
   "cell_type": "code",
   "execution_count": null,
   "id": "b5410ee8",
   "metadata": {},
   "outputs": [],
   "source": [
    "def regression_errors(actual, predicted):\n",
    "    return pd.Series({\n",
    "        'SSE': SSE(actual, predicted),\n",
    "        'ess': ess(actual, predicted),\n",
    "        'TSS': TSS(actual),\n",
    "        'MSE': MSE(actual, predicted),\n",
    "        'RMSE': RMSE(actual, predicted),\n",
    "   })\n",
    "\n",
    "def baseline_mean_errors(actual):\n",
    "    predicted = actual.mean()\n",
    "    return {\n",
    "        'SSE': SSE(actual, predicted),\n",
    "        'MSE': MSE(actual, predicted),\n",
    "        'RMSE': RMSE(actual, predicted),\n",
    "    }\n",
    "\n",
    "def better_than_baseline(actual, predicted):\n",
    "    RMSE_baseline = RMSE(actual, actual.mean())\n",
    "    RMSE_model = RMSE(actual, predicted)\n",
    "    return RMSE_model < RMSE_baseline"
   ]
  },
  {
   "cell_type": "code",
   "execution_count": null,
   "id": "08df8bf3",
   "metadata": {},
   "outputs": [],
   "source": []
  }
 ],
 "metadata": {
  "kernelspec": {
   "display_name": "Python 3 (ipykernel)",
   "language": "python",
   "name": "python3"
  },
  "language_info": {
   "codemirror_mode": {
    "name": "ipython",
    "version": 3
   },
   "file_extension": ".py",
   "mimetype": "text/x-python",
   "name": "python",
   "nbconvert_exporter": "python",
   "pygments_lexer": "ipython3",
   "version": "3.10.9"
  }
 },
 "nbformat": 4,
 "nbformat_minor": 5
}
