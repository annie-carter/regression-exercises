{
 "cells": [
  {
   "cell_type": "markdown",
   "id": "ad50e72d",
   "metadata": {},
   "source": [
    "#  <span style=\"color:blue\">Evaluating Regression Models "
   ]
  },
  {
   "cell_type": "markdown",
   "id": "89d6de13",
   "metadata": {},
   "source": [
    "First things first, wrote the setting"
   ]
  },
  {
   "cell_type": "code",
   "execution_count": 47,
   "id": "07bcc300",
   "metadata": {},
   "outputs": [],
   "source": [
    "import warnings\n",
    "warnings.filterwarnings(\"ignore\")\n",
    "\n",
    "import pandas as pd\n",
    "import matplotlib.pyplot as plt\n",
    "import seaborn as sns\n",
    "import numpy as np\n",
    "import wrangle\n",
    "import env\n",
    "import statsmodels.api as sm"
   ]
  },
  {
   "cell_type": "markdown",
   "id": "ed1d8b87",
   "metadata": {},
   "source": [
    "## <span style=\"color:blue\">1.Load your zillow dataset."
   ]
  },
  {
   "cell_type": "markdown",
   "id": "3ccfb39a",
   "metadata": {},
   "source": [
    "### ACQUIRE"
   ]
  },
  {
   "cell_type": "code",
   "execution_count": 2,
   "id": "99fd235c",
   "metadata": {},
   "outputs": [
    {
     "data": {
      "text/html": [
       "<div>\n",
       "<style scoped>\n",
       "    .dataframe tbody tr th:only-of-type {\n",
       "        vertical-align: middle;\n",
       "    }\n",
       "\n",
       "    .dataframe tbody tr th {\n",
       "        vertical-align: top;\n",
       "    }\n",
       "\n",
       "    .dataframe thead th {\n",
       "        text-align: right;\n",
       "    }\n",
       "</style>\n",
       "<table border=\"1\" class=\"dataframe\">\n",
       "  <thead>\n",
       "    <tr style=\"text-align: right;\">\n",
       "      <th></th>\n",
       "      <th>bedroomcnt</th>\n",
       "      <th>bathroomcnt</th>\n",
       "      <th>calculatedfinishedsquarefeet</th>\n",
       "      <th>taxvaluedollarcnt</th>\n",
       "      <th>yearbuilt</th>\n",
       "      <th>taxamount</th>\n",
       "      <th>fips</th>\n",
       "      <th>propertylandusetypeid</th>\n",
       "    </tr>\n",
       "  </thead>\n",
       "  <tbody>\n",
       "    <tr>\n",
       "      <th>0</th>\n",
       "      <td>0.0</td>\n",
       "      <td>0.0</td>\n",
       "      <td>NaN</td>\n",
       "      <td>27516.0</td>\n",
       "      <td>NaN</td>\n",
       "      <td>NaN</td>\n",
       "      <td>6037.0</td>\n",
       "      <td>261.0</td>\n",
       "    </tr>\n",
       "    <tr>\n",
       "      <th>1</th>\n",
       "      <td>0.0</td>\n",
       "      <td>0.0</td>\n",
       "      <td>NaN</td>\n",
       "      <td>10.0</td>\n",
       "      <td>NaN</td>\n",
       "      <td>NaN</td>\n",
       "      <td>6037.0</td>\n",
       "      <td>261.0</td>\n",
       "    </tr>\n",
       "    <tr>\n",
       "      <th>2</th>\n",
       "      <td>0.0</td>\n",
       "      <td>0.0</td>\n",
       "      <td>NaN</td>\n",
       "      <td>10.0</td>\n",
       "      <td>NaN</td>\n",
       "      <td>NaN</td>\n",
       "      <td>6037.0</td>\n",
       "      <td>261.0</td>\n",
       "    </tr>\n",
       "    <tr>\n",
       "      <th>3</th>\n",
       "      <td>0.0</td>\n",
       "      <td>0.0</td>\n",
       "      <td>NaN</td>\n",
       "      <td>2108.0</td>\n",
       "      <td>NaN</td>\n",
       "      <td>174.21</td>\n",
       "      <td>6037.0</td>\n",
       "      <td>261.0</td>\n",
       "    </tr>\n",
       "    <tr>\n",
       "      <th>4</th>\n",
       "      <td>4.0</td>\n",
       "      <td>2.0</td>\n",
       "      <td>3633.0</td>\n",
       "      <td>296425.0</td>\n",
       "      <td>2005.0</td>\n",
       "      <td>6941.39</td>\n",
       "      <td>6037.0</td>\n",
       "      <td>261.0</td>\n",
       "    </tr>\n",
       "  </tbody>\n",
       "</table>\n",
       "</div>"
      ],
      "text/plain": [
       "   bedroomcnt  bathroomcnt  calculatedfinishedsquarefeet  taxvaluedollarcnt  \\\n",
       "0         0.0          0.0                           NaN            27516.0   \n",
       "1         0.0          0.0                           NaN               10.0   \n",
       "2         0.0          0.0                           NaN               10.0   \n",
       "3         0.0          0.0                           NaN             2108.0   \n",
       "4         4.0          2.0                        3633.0           296425.0   \n",
       "\n",
       "   yearbuilt  taxamount    fips  propertylandusetypeid  \n",
       "0        NaN        NaN  6037.0                  261.0  \n",
       "1        NaN        NaN  6037.0                  261.0  \n",
       "2        NaN        NaN  6037.0                  261.0  \n",
       "3        NaN     174.21  6037.0                  261.0  \n",
       "4     2005.0    6941.39  6037.0                  261.0  "
      ]
     },
     "execution_count": 2,
     "metadata": {},
     "output_type": "execute_result"
    }
   ],
   "source": [
    "#now we have the makings of a character from real life and now we need to  adjust him to our story\n",
    "df = wrangle.get_zillow_data()\n",
    "df.head()"
   ]
  },
  {
   "cell_type": "code",
   "execution_count": 3,
   "id": "ee6ca185",
   "metadata": {},
   "outputs": [],
   "source": [
    "#let's modify a couple of things to make his strong points stand out most\n",
    "df = wrangle.wrangled_zillow(df)"
   ]
  },
  {
   "cell_type": "code",
   "execution_count": 4,
   "id": "569d2ea0",
   "metadata": {},
   "outputs": [],
   "source": [
    "#We always train on train data\n",
    "#Let's bring it in\n",
    "train, validate, test = wrangle.traintestsplit(df)"
   ]
  },
  {
   "cell_type": "markdown",
   "id": "9c81c788",
   "metadata": {},
   "source": [
    "Fit a linear regression model (ordinary least squares) and compute yhat, \n",
    "\n",
    "(predictions of taxvaluedollarcnt using only calfulatedfinishedsqft.)\n",
    "\n",
    "Here is some sample code to get you started:"
   ]
  },
  {
   "cell_type": "markdown",
   "id": "c0b56440",
   "metadata": {},
   "source": [
    "## <span style=\"color:blue\">2. Fit a linear regression model (ordinary least squares) and compute yhat, predictions of taxvaluedollarcnt using only calfulatedfinishedsqft."
   ]
  },
  {
   "cell_type": "code",
   "execution_count": 5,
   "id": "2839c94d",
   "metadata": {},
   "outputs": [],
   "source": [
    "y=train[[\"taxvaluedollarcnt\"]] #what we want\n",
    "x=train[[\"calculatedfinishedsquarefeet\"]] #how we measure\n",
    "# I had flipped the values and added double brackets"
   ]
  },
  {
   "cell_type": "code",
   "execution_count": 18,
   "id": "6c923ab5",
   "metadata": {},
   "outputs": [],
   "source": [
    "X_train = train[['calculatedfinishedsquarefeet']]\n",
    "y_train = train['taxvaluedollarcnt']\n",
    "\n",
    "X_validate = validate[['calculatedfinishedsquarefeet']]\n",
    "y_validate = validate['taxvaluedollarcnt']\n",
    "\n",
    "X_test = test[['calculatedfinishedsquarefeet']]\n",
    "y_test = test['taxvaluedollarcnt']"
   ]
  },
  {
   "cell_type": "code",
   "execution_count": 20,
   "id": "e6523ac5",
   "metadata": {},
   "outputs": [
    {
     "data": {
      "text/html": [
       "<div>\n",
       "<style scoped>\n",
       "    .dataframe tbody tr th:only-of-type {\n",
       "        vertical-align: middle;\n",
       "    }\n",
       "\n",
       "    .dataframe tbody tr th {\n",
       "        vertical-align: top;\n",
       "    }\n",
       "\n",
       "    .dataframe thead th {\n",
       "        text-align: right;\n",
       "    }\n",
       "</style>\n",
       "<table border=\"1\" class=\"dataframe\">\n",
       "  <thead>\n",
       "    <tr style=\"text-align: right;\">\n",
       "      <th></th>\n",
       "      <th>calculatedfinishedsquarefeet</th>\n",
       "    </tr>\n",
       "  </thead>\n",
       "  <tbody>\n",
       "    <tr>\n",
       "      <th>1667396</th>\n",
       "      <td>2281.0</td>\n",
       "    </tr>\n",
       "    <tr>\n",
       "      <th>250527</th>\n",
       "      <td>1691.0</td>\n",
       "    </tr>\n",
       "    <tr>\n",
       "      <th>1334166</th>\n",
       "      <td>1677.0</td>\n",
       "    </tr>\n",
       "    <tr>\n",
       "      <th>195429</th>\n",
       "      <td>1627.0</td>\n",
       "    </tr>\n",
       "    <tr>\n",
       "      <th>49854</th>\n",
       "      <td>1146.0</td>\n",
       "    </tr>\n",
       "  </tbody>\n",
       "</table>\n",
       "</div>"
      ],
      "text/plain": [
       "         calculatedfinishedsquarefeet\n",
       "1667396                        2281.0\n",
       "250527                         1691.0\n",
       "1334166                        1677.0\n",
       "195429                         1627.0\n",
       "49854                          1146.0"
      ]
     },
     "execution_count": 20,
     "metadata": {},
     "output_type": "execute_result"
    }
   ],
   "source": [
    "X_train.head()"
   ]
  },
  {
   "cell_type": "code",
   "execution_count": 21,
   "id": "fba5b05a",
   "metadata": {},
   "outputs": [
    {
     "data": {
      "text/plain": [
       "1667396     398552.0\n",
       "250527      108264.0\n",
       "1334166     135962.0\n",
       "195429      101427.0\n",
       "49854        37576.0\n",
       "             ...    \n",
       "1029661      92933.0\n",
       "482782     1242641.0\n",
       "184352      259952.0\n",
       "760959      778720.0\n",
       "2073820     226995.0\n",
       "Name: taxvaluedollarcnt, Length: 1170051, dtype: float64"
      ]
     },
     "execution_count": 21,
     "metadata": {},
     "output_type": "execute_result"
    }
   ],
   "source": [
    "y_train"
   ]
  },
  {
   "cell_type": "markdown",
   "id": "93f3eedd",
   "metadata": {},
   "source": [
    "Need to turn these into one dimensional arrays"
   ]
  },
  {
   "cell_type": "code",
   "execution_count": 15,
   "id": "9777dbbc",
   "metadata": {},
   "outputs": [],
   "source": [
    "from sklearn.linear_model import LinearRegression\n",
    "\n",
    "# assuming X and y are already defined\n",
    "model = LinearRegression().fit(x, y)\n",
    "predictions = model.predict(x)"
   ]
  },
  {
   "cell_type": "markdown",
   "id": "8cd43d82",
   "metadata": {},
   "source": [
    "## <span style=\"color:blue\">Plot linear regression models"
   ]
  },
  {
   "cell_type": "code",
   "execution_count": 16,
   "id": "5546abbd",
   "metadata": {},
   "outputs": [
    {
     "data": {
      "image/png": "[encoded data removed]",
      "text/plain": [
       "<Figure size 432x288 with 1 Axes>"
      ]
     },
     "metadata": {
      "needs_background": "light"
     },
     "output_type": "display_data"
    }
   ],
   "source": [
    "# look at scatter of x vs y\n",
    "plt.scatter(x, y)\n",
    "plt.xlabel('x = calculatedfinishedsquarefeet')\n",
    "plt.ylabel('y = taxvaluedollarcnt');"
   ]
  },
  {
   "cell_type": "markdown",
   "id": "c2b309e6",
   "metadata": {},
   "source": [
    "Scatterplot shows outliers houses of 20k calculated finished square feet"
   ]
  },
  {
   "cell_type": "code",
   "execution_count": 10,
   "id": "b7b2b484",
   "metadata": {},
   "outputs": [
    {
     "data": {
      "text/plain": [
       "taxvaluedollarcnt    399083.816953\n",
       "dtype: float64"
      ]
     },
     "execution_count": 10,
     "metadata": {},
     "output_type": "execute_result"
    }
   ],
   "source": [
    "baseline = y.mean()\n",
    "baseline"
   ]
  },
  {
   "cell_type": "code",
   "execution_count": 11,
   "id": "63d29eb4",
   "metadata": {},
   "outputs": [
    {
     "data": {
      "text/html": [
       "<div>\n",
       "<style scoped>\n",
       "    .dataframe tbody tr th:only-of-type {\n",
       "        vertical-align: middle;\n",
       "    }\n",
       "\n",
       "    .dataframe tbody tr th {\n",
       "        vertical-align: top;\n",
       "    }\n",
       "\n",
       "    .dataframe thead th {\n",
       "        text-align: right;\n",
       "    }\n",
       "</style>\n",
       "<table border=\"1\" class=\"dataframe\">\n",
       "  <thead>\n",
       "    <tr style=\"text-align: right;\">\n",
       "      <th></th>\n",
       "      <th>bedroomcnt</th>\n",
       "      <th>bathroomcnt</th>\n",
       "      <th>calculatedfinishedsquarefeet</th>\n",
       "      <th>taxvaluedollarcnt</th>\n",
       "      <th>yearbuilt</th>\n",
       "      <th>taxamount</th>\n",
       "      <th>fips</th>\n",
       "      <th>propertylandusetypeid</th>\n",
       "      <th>baseline</th>\n",
       "    </tr>\n",
       "  </thead>\n",
       "  <tbody>\n",
       "    <tr>\n",
       "      <th>1667396</th>\n",
       "      <td>4.0</td>\n",
       "      <td>3.0</td>\n",
       "      <td>2281.0</td>\n",
       "      <td>398552.0</td>\n",
       "      <td>1994.0</td>\n",
       "      <td>5119.38</td>\n",
       "      <td>6059.0</td>\n",
       "      <td>261.0</td>\n",
       "      <td>NaN</td>\n",
       "    </tr>\n",
       "    <tr>\n",
       "      <th>250527</th>\n",
       "      <td>4.0</td>\n",
       "      <td>2.0</td>\n",
       "      <td>1691.0</td>\n",
       "      <td>108264.0</td>\n",
       "      <td>1964.0</td>\n",
       "      <td>1500.33</td>\n",
       "      <td>6037.0</td>\n",
       "      <td>261.0</td>\n",
       "      <td>NaN</td>\n",
       "    </tr>\n",
       "    <tr>\n",
       "      <th>1334166</th>\n",
       "      <td>3.0</td>\n",
       "      <td>2.0</td>\n",
       "      <td>1677.0</td>\n",
       "      <td>135962.0</td>\n",
       "      <td>1969.0</td>\n",
       "      <td>1359.26</td>\n",
       "      <td>6059.0</td>\n",
       "      <td>261.0</td>\n",
       "      <td>NaN</td>\n",
       "    </tr>\n",
       "    <tr>\n",
       "      <th>195429</th>\n",
       "      <td>3.0</td>\n",
       "      <td>2.0</td>\n",
       "      <td>1627.0</td>\n",
       "      <td>101427.0</td>\n",
       "      <td>1942.0</td>\n",
       "      <td>1159.25</td>\n",
       "      <td>6037.0</td>\n",
       "      <td>261.0</td>\n",
       "      <td>NaN</td>\n",
       "    </tr>\n",
       "    <tr>\n",
       "      <th>49854</th>\n",
       "      <td>4.0</td>\n",
       "      <td>2.0</td>\n",
       "      <td>1146.0</td>\n",
       "      <td>37576.0</td>\n",
       "      <td>1955.0</td>\n",
       "      <td>736.77</td>\n",
       "      <td>6037.0</td>\n",
       "      <td>261.0</td>\n",
       "      <td>NaN</td>\n",
       "    </tr>\n",
       "  </tbody>\n",
       "</table>\n",
       "</div>"
      ],
      "text/plain": [
       "         bedroomcnt  bathroomcnt  calculatedfinishedsquarefeet  \\\n",
       "1667396         4.0          3.0                        2281.0   \n",
       "250527          4.0          2.0                        1691.0   \n",
       "1334166         3.0          2.0                        1677.0   \n",
       "195429          3.0          2.0                        1627.0   \n",
       "49854           4.0          2.0                        1146.0   \n",
       "\n",
       "         taxvaluedollarcnt  yearbuilt  taxamount    fips  \\\n",
       "1667396           398552.0     1994.0    5119.38  6059.0   \n",
       "250527            108264.0     1964.0    1500.33  6037.0   \n",
       "1334166           135962.0     1969.0    1359.26  6059.0   \n",
       "195429            101427.0     1942.0    1159.25  6037.0   \n",
       "49854              37576.0     1955.0     736.77  6037.0   \n",
       "\n",
       "         propertylandusetypeid  baseline  \n",
       "1667396                  261.0       NaN  \n",
       "250527                   261.0       NaN  \n",
       "1334166                  261.0       NaN  \n",
       "195429                   261.0       NaN  \n",
       "49854                    261.0       NaN  "
      ]
     },
     "execution_count": 11,
     "metadata": {},
     "output_type": "execute_result"
    }
   ],
   "source": [
    "train['baseline'] = y.mean()\n",
    "train.head()"
   ]
  },
  {
   "cell_type": "code",
   "execution_count": 22,
   "id": "ddc203f7",
   "metadata": {},
   "outputs": [
    {
     "data": {
      "text/plain": [
       "399083.8169532781"
      ]
     },
     "execution_count": 22,
     "metadata": {},
     "output_type": "execute_result"
    }
   ],
   "source": [
    "baseline = train.taxvaluedollarcnt.mean()\n",
    "baseline"
   ]
  },
  {
   "cell_type": "code",
   "execution_count": 23,
   "id": "ea483bba",
   "metadata": {},
   "outputs": [
    {
     "data": {
      "text/html": [
       "<div>\n",
       "<style scoped>\n",
       "    .dataframe tbody tr th:only-of-type {\n",
       "        vertical-align: middle;\n",
       "    }\n",
       "\n",
       "    .dataframe tbody tr th {\n",
       "        vertical-align: top;\n",
       "    }\n",
       "\n",
       "    .dataframe thead th {\n",
       "        text-align: right;\n",
       "    }\n",
       "</style>\n",
       "<table border=\"1\" class=\"dataframe\">\n",
       "  <thead>\n",
       "    <tr style=\"text-align: right;\">\n",
       "      <th></th>\n",
       "      <th>bedroomcnt</th>\n",
       "      <th>bathroomcnt</th>\n",
       "      <th>calculatedfinishedsquarefeet</th>\n",
       "      <th>taxvaluedollarcnt</th>\n",
       "      <th>yearbuilt</th>\n",
       "      <th>taxamount</th>\n",
       "      <th>fips</th>\n",
       "      <th>propertylandusetypeid</th>\n",
       "      <th>baseline</th>\n",
       "    </tr>\n",
       "  </thead>\n",
       "  <tbody>\n",
       "    <tr>\n",
       "      <th>1667396</th>\n",
       "      <td>4.0</td>\n",
       "      <td>3.0</td>\n",
       "      <td>2281.0</td>\n",
       "      <td>398552.0</td>\n",
       "      <td>1994.0</td>\n",
       "      <td>5119.38</td>\n",
       "      <td>6059.0</td>\n",
       "      <td>261.0</td>\n",
       "      <td>399083.816953</td>\n",
       "    </tr>\n",
       "    <tr>\n",
       "      <th>250527</th>\n",
       "      <td>4.0</td>\n",
       "      <td>2.0</td>\n",
       "      <td>1691.0</td>\n",
       "      <td>108264.0</td>\n",
       "      <td>1964.0</td>\n",
       "      <td>1500.33</td>\n",
       "      <td>6037.0</td>\n",
       "      <td>261.0</td>\n",
       "      <td>399083.816953</td>\n",
       "    </tr>\n",
       "    <tr>\n",
       "      <th>1334166</th>\n",
       "      <td>3.0</td>\n",
       "      <td>2.0</td>\n",
       "      <td>1677.0</td>\n",
       "      <td>135962.0</td>\n",
       "      <td>1969.0</td>\n",
       "      <td>1359.26</td>\n",
       "      <td>6059.0</td>\n",
       "      <td>261.0</td>\n",
       "      <td>399083.816953</td>\n",
       "    </tr>\n",
       "    <tr>\n",
       "      <th>195429</th>\n",
       "      <td>3.0</td>\n",
       "      <td>2.0</td>\n",
       "      <td>1627.0</td>\n",
       "      <td>101427.0</td>\n",
       "      <td>1942.0</td>\n",
       "      <td>1159.25</td>\n",
       "      <td>6037.0</td>\n",
       "      <td>261.0</td>\n",
       "      <td>399083.816953</td>\n",
       "    </tr>\n",
       "    <tr>\n",
       "      <th>49854</th>\n",
       "      <td>4.0</td>\n",
       "      <td>2.0</td>\n",
       "      <td>1146.0</td>\n",
       "      <td>37576.0</td>\n",
       "      <td>1955.0</td>\n",
       "      <td>736.77</td>\n",
       "      <td>6037.0</td>\n",
       "      <td>261.0</td>\n",
       "      <td>399083.816953</td>\n",
       "    </tr>\n",
       "  </tbody>\n",
       "</table>\n",
       "</div>"
      ],
      "text/plain": [
       "         bedroomcnt  bathroomcnt  calculatedfinishedsquarefeet  \\\n",
       "1667396         4.0          3.0                        2281.0   \n",
       "250527          4.0          2.0                        1691.0   \n",
       "1334166         3.0          2.0                        1677.0   \n",
       "195429          3.0          2.0                        1627.0   \n",
       "49854           4.0          2.0                        1146.0   \n",
       "\n",
       "         taxvaluedollarcnt  yearbuilt  taxamount    fips  \\\n",
       "1667396           398552.0     1994.0    5119.38  6059.0   \n",
       "250527            108264.0     1964.0    1500.33  6037.0   \n",
       "1334166           135962.0     1969.0    1359.26  6059.0   \n",
       "195429            101427.0     1942.0    1159.25  6037.0   \n",
       "49854              37576.0     1955.0     736.77  6037.0   \n",
       "\n",
       "         propertylandusetypeid       baseline  \n",
       "1667396                  261.0  399083.816953  \n",
       "250527                   261.0  399083.816953  \n",
       "1334166                  261.0  399083.816953  \n",
       "195429                   261.0  399083.816953  \n",
       "49854                    261.0  399083.816953  "
      ]
     },
     "execution_count": 23,
     "metadata": {},
     "output_type": "execute_result"
    }
   ],
   "source": [
    "train['baseline'] = train.taxvaluedollarcnt.mean()\n",
    "train.head()"
   ]
  },
  {
   "cell_type": "code",
   "execution_count": 24,
   "id": "e5ea331b",
   "metadata": {},
   "outputs": [
    {
     "data": {
      "image/png": "[encoded data removed]",
      "text/plain": [
       "<Figure size 432x288 with 1 Axes>"
      ]
     },
     "metadata": {
      "needs_background": "light"
     },
     "output_type": "display_data"
    }
   ],
   "source": [
    "plt.scatter(train.calculatedfinishedsquarefeet, train.taxvaluedollarcnt)\n",
    "plt.axhline(train.taxvaluedollarcnt.mean(), ls = ':')\n",
    "plt.xlabel('x = Square Feet')\n",
    "plt.ylabel('y = Tax Assessed Value')\n",
    "plt.title('Baseline model');"
   ]
  },
  {
   "cell_type": "code",
   "execution_count": 1,
   "id": "909e4855",
   "metadata": {},
   "outputs": [
    {
     "ename": "SyntaxError",
     "evalue": "invalid decimal literal (3490432758.py, line 1)",
     "output_type": "error",
     "traceback": [
      "\u001b[0;36m  Cell \u001b[0;32mIn[1], line 1\u001b[0;36m\u001b[0m\n\u001b[0;31m    Scatterplot shows outliers houses of 20k square feet\u001b[0m\n\u001b[0m                                          ^\u001b[0m\n\u001b[0;31mSyntaxError\u001b[0m\u001b[0;31m:\u001b[0m invalid decimal literal\n"
     ]
    }
   ],
   "source": [
    "Scatterplot shows outliers houses of 20k square feet"
   ]
  },
  {
   "cell_type": "code",
   "execution_count": 25,
   "id": "ac508b12",
   "metadata": {},
   "outputs": [],
   "source": [
    "model = LinearRegression().fit(X_train, y_train)\n",
    "predictions = model.predict(X_train)"
   ]
  },
  {
   "cell_type": "code",
   "execution_count": 26,
   "id": "0143a08e",
   "metadata": {},
   "outputs": [],
   "source": [
    "train['yhat'] = predictions"
   ]
  },
  {
   "cell_type": "code",
   "execution_count": 27,
   "id": "3be4217f",
   "metadata": {},
   "outputs": [
    {
     "data": {
      "text/html": [
       "<div>\n",
       "<style scoped>\n",
       "    .dataframe tbody tr th:only-of-type {\n",
       "        vertical-align: middle;\n",
       "    }\n",
       "\n",
       "    .dataframe tbody tr th {\n",
       "        vertical-align: top;\n",
       "    }\n",
       "\n",
       "    .dataframe thead th {\n",
       "        text-align: right;\n",
       "    }\n",
       "</style>\n",
       "<table border=\"1\" class=\"dataframe\">\n",
       "  <thead>\n",
       "    <tr style=\"text-align: right;\">\n",
       "      <th></th>\n",
       "      <th>bedroomcnt</th>\n",
       "      <th>bathroomcnt</th>\n",
       "      <th>calculatedfinishedsquarefeet</th>\n",
       "      <th>taxvaluedollarcnt</th>\n",
       "      <th>yearbuilt</th>\n",
       "      <th>taxamount</th>\n",
       "      <th>fips</th>\n",
       "      <th>propertylandusetypeid</th>\n",
       "      <th>baseline</th>\n",
       "      <th>yhat</th>\n",
       "    </tr>\n",
       "  </thead>\n",
       "  <tbody>\n",
       "    <tr>\n",
       "      <th>1667396</th>\n",
       "      <td>4.0</td>\n",
       "      <td>3.0</td>\n",
       "      <td>2281.0</td>\n",
       "      <td>398552.0</td>\n",
       "      <td>1994.0</td>\n",
       "      <td>5119.38</td>\n",
       "      <td>6059.0</td>\n",
       "      <td>261.0</td>\n",
       "      <td>399083.816953</td>\n",
       "      <td>511262.589142</td>\n",
       "    </tr>\n",
       "    <tr>\n",
       "      <th>250527</th>\n",
       "      <td>4.0</td>\n",
       "      <td>2.0</td>\n",
       "      <td>1691.0</td>\n",
       "      <td>108264.0</td>\n",
       "      <td>1964.0</td>\n",
       "      <td>1500.33</td>\n",
       "      <td>6037.0</td>\n",
       "      <td>261.0</td>\n",
       "      <td>399083.816953</td>\n",
       "      <td>374110.022383</td>\n",
       "    </tr>\n",
       "    <tr>\n",
       "      <th>1334166</th>\n",
       "      <td>3.0</td>\n",
       "      <td>2.0</td>\n",
       "      <td>1677.0</td>\n",
       "      <td>135962.0</td>\n",
       "      <td>1969.0</td>\n",
       "      <td>1359.26</td>\n",
       "      <td>6059.0</td>\n",
       "      <td>261.0</td>\n",
       "      <td>399083.816953</td>\n",
       "      <td>370855.554697</td>\n",
       "    </tr>\n",
       "    <tr>\n",
       "      <th>195429</th>\n",
       "      <td>3.0</td>\n",
       "      <td>2.0</td>\n",
       "      <td>1627.0</td>\n",
       "      <td>101427.0</td>\n",
       "      <td>1942.0</td>\n",
       "      <td>1159.25</td>\n",
       "      <td>6037.0</td>\n",
       "      <td>261.0</td>\n",
       "      <td>399083.816953</td>\n",
       "      <td>359232.455820</td>\n",
       "    </tr>\n",
       "    <tr>\n",
       "      <th>49854</th>\n",
       "      <td>4.0</td>\n",
       "      <td>2.0</td>\n",
       "      <td>1146.0</td>\n",
       "      <td>37576.0</td>\n",
       "      <td>1955.0</td>\n",
       "      <td>736.77</td>\n",
       "      <td>6037.0</td>\n",
       "      <td>261.0</td>\n",
       "      <td>399083.816953</td>\n",
       "      <td>247418.244615</td>\n",
       "    </tr>\n",
       "  </tbody>\n",
       "</table>\n",
       "</div>"
      ],
      "text/plain": [
       "         bedroomcnt  bathroomcnt  calculatedfinishedsquarefeet  \\\n",
       "1667396         4.0          3.0                        2281.0   \n",
       "250527          4.0          2.0                        1691.0   \n",
       "1334166         3.0          2.0                        1677.0   \n",
       "195429          3.0          2.0                        1627.0   \n",
       "49854           4.0          2.0                        1146.0   \n",
       "\n",
       "         taxvaluedollarcnt  yearbuilt  taxamount    fips  \\\n",
       "1667396           398552.0     1994.0    5119.38  6059.0   \n",
       "250527            108264.0     1964.0    1500.33  6037.0   \n",
       "1334166           135962.0     1969.0    1359.26  6059.0   \n",
       "195429            101427.0     1942.0    1159.25  6037.0   \n",
       "49854              37576.0     1955.0     736.77  6037.0   \n",
       "\n",
       "         propertylandusetypeid       baseline           yhat  \n",
       "1667396                  261.0  399083.816953  511262.589142  \n",
       "250527                   261.0  399083.816953  374110.022383  \n",
       "1334166                  261.0  399083.816953  370855.554697  \n",
       "195429                   261.0  399083.816953  359232.455820  \n",
       "49854                    261.0  399083.816953  247418.244615  "
      ]
     },
     "execution_count": 27,
     "metadata": {},
     "output_type": "execute_result"
    }
   ],
   "source": [
    "train.head()"
   ]
  },
  {
   "cell_type": "code",
   "execution_count": 28,
   "id": "c4bd03a6",
   "metadata": {},
   "outputs": [
    {
     "data": {
      "image/png": "[encoded data removed]",
      "text/plain": [
       "<Figure size 432x288 with 1 Axes>"
      ]
     },
     "metadata": {
      "needs_background": "light"
     },
     "output_type": "display_data"
    }
   ],
   "source": [
    "# visualize the line of best fit from OLS linear model\n",
    "plt.scatter(train.calculatedfinishedsquarefeet, train.taxvaluedollarcnt)\n",
    "plt.plot(train.calculatedfinishedsquarefeet, train.yhat)\n",
    "plt.xlabel('x = Square Feet')\n",
    "plt.ylabel('y = Tax Assessed Value')\n",
    "plt.title('OLS linear model');"
   ]
  },
  {
   "cell_type": "markdown",
   "id": "b7c70e8d",
   "metadata": {},
   "source": [
    "## <span style=\"color:blue\">3. Plot the residuals for the linear regression model that you made."
   ]
  },
  {
   "cell_type": "code",
   "execution_count": 29,
   "id": "23fbb50f",
   "metadata": {},
   "outputs": [
    {
     "data": {
      "text/html": [
       "<div>\n",
       "<style scoped>\n",
       "    .dataframe tbody tr th:only-of-type {\n",
       "        vertical-align: middle;\n",
       "    }\n",
       "\n",
       "    .dataframe tbody tr th {\n",
       "        vertical-align: top;\n",
       "    }\n",
       "\n",
       "    .dataframe thead th {\n",
       "        text-align: right;\n",
       "    }\n",
       "</style>\n",
       "<table border=\"1\" class=\"dataframe\">\n",
       "  <thead>\n",
       "    <tr style=\"text-align: right;\">\n",
       "      <th></th>\n",
       "      <th>bedroomcnt</th>\n",
       "      <th>bathroomcnt</th>\n",
       "      <th>calculatedfinishedsquarefeet</th>\n",
       "      <th>taxvaluedollarcnt</th>\n",
       "      <th>yearbuilt</th>\n",
       "      <th>taxamount</th>\n",
       "      <th>fips</th>\n",
       "      <th>propertylandusetypeid</th>\n",
       "      <th>baseline</th>\n",
       "      <th>yhat</th>\n",
       "    </tr>\n",
       "  </thead>\n",
       "  <tbody>\n",
       "    <tr>\n",
       "      <th>1667396</th>\n",
       "      <td>4.0</td>\n",
       "      <td>3.0</td>\n",
       "      <td>2281.0</td>\n",
       "      <td>398552.0</td>\n",
       "      <td>1994.0</td>\n",
       "      <td>5119.38</td>\n",
       "      <td>6059.0</td>\n",
       "      <td>261.0</td>\n",
       "      <td>399083.816953</td>\n",
       "      <td>511262.589142</td>\n",
       "    </tr>\n",
       "    <tr>\n",
       "      <th>250527</th>\n",
       "      <td>4.0</td>\n",
       "      <td>2.0</td>\n",
       "      <td>1691.0</td>\n",
       "      <td>108264.0</td>\n",
       "      <td>1964.0</td>\n",
       "      <td>1500.33</td>\n",
       "      <td>6037.0</td>\n",
       "      <td>261.0</td>\n",
       "      <td>399083.816953</td>\n",
       "      <td>374110.022383</td>\n",
       "    </tr>\n",
       "    <tr>\n",
       "      <th>1334166</th>\n",
       "      <td>3.0</td>\n",
       "      <td>2.0</td>\n",
       "      <td>1677.0</td>\n",
       "      <td>135962.0</td>\n",
       "      <td>1969.0</td>\n",
       "      <td>1359.26</td>\n",
       "      <td>6059.0</td>\n",
       "      <td>261.0</td>\n",
       "      <td>399083.816953</td>\n",
       "      <td>370855.554697</td>\n",
       "    </tr>\n",
       "    <tr>\n",
       "      <th>195429</th>\n",
       "      <td>3.0</td>\n",
       "      <td>2.0</td>\n",
       "      <td>1627.0</td>\n",
       "      <td>101427.0</td>\n",
       "      <td>1942.0</td>\n",
       "      <td>1159.25</td>\n",
       "      <td>6037.0</td>\n",
       "      <td>261.0</td>\n",
       "      <td>399083.816953</td>\n",
       "      <td>359232.455820</td>\n",
       "    </tr>\n",
       "    <tr>\n",
       "      <th>49854</th>\n",
       "      <td>4.0</td>\n",
       "      <td>2.0</td>\n",
       "      <td>1146.0</td>\n",
       "      <td>37576.0</td>\n",
       "      <td>1955.0</td>\n",
       "      <td>736.77</td>\n",
       "      <td>6037.0</td>\n",
       "      <td>261.0</td>\n",
       "      <td>399083.816953</td>\n",
       "      <td>247418.244615</td>\n",
       "    </tr>\n",
       "  </tbody>\n",
       "</table>\n",
       "</div>"
      ],
      "text/plain": [
       "         bedroomcnt  bathroomcnt  calculatedfinishedsquarefeet  \\\n",
       "1667396         4.0          3.0                        2281.0   \n",
       "250527          4.0          2.0                        1691.0   \n",
       "1334166         3.0          2.0                        1677.0   \n",
       "195429          3.0          2.0                        1627.0   \n",
       "49854           4.0          2.0                        1146.0   \n",
       "\n",
       "         taxvaluedollarcnt  yearbuilt  taxamount    fips  \\\n",
       "1667396           398552.0     1994.0    5119.38  6059.0   \n",
       "250527            108264.0     1964.0    1500.33  6037.0   \n",
       "1334166           135962.0     1969.0    1359.26  6059.0   \n",
       "195429            101427.0     1942.0    1159.25  6037.0   \n",
       "49854              37576.0     1955.0     736.77  6037.0   \n",
       "\n",
       "         propertylandusetypeid       baseline           yhat  \n",
       "1667396                  261.0  399083.816953  511262.589142  \n",
       "250527                   261.0  399083.816953  374110.022383  \n",
       "1334166                  261.0  399083.816953  370855.554697  \n",
       "195429                   261.0  399083.816953  359232.455820  \n",
       "49854                    261.0  399083.816953  247418.244615  "
      ]
     },
     "execution_count": 29,
     "metadata": {},
     "output_type": "execute_result"
    }
   ],
   "source": [
    "train.head()"
   ]
  },
  {
   "cell_type": "code",
   "execution_count": 30,
   "id": "c9b4b22a",
   "metadata": {},
   "outputs": [],
   "source": [
    "# residual = actual - predicted\n",
    "train['residual'] = train.taxvaluedollarcnt - train.yhat\n",
    "train['baseline_residual'] = train.taxvaluedollarcnt - train.baseline"
   ]
  },
  {
   "cell_type": "code",
   "execution_count": 31,
   "id": "647aad23",
   "metadata": {},
   "outputs": [
    {
     "data": {
      "text/html": [
       "<div>\n",
       "<style scoped>\n",
       "    .dataframe tbody tr th:only-of-type {\n",
       "        vertical-align: middle;\n",
       "    }\n",
       "\n",
       "    .dataframe tbody tr th {\n",
       "        vertical-align: top;\n",
       "    }\n",
       "\n",
       "    .dataframe thead th {\n",
       "        text-align: right;\n",
       "    }\n",
       "</style>\n",
       "<table border=\"1\" class=\"dataframe\">\n",
       "  <thead>\n",
       "    <tr style=\"text-align: right;\">\n",
       "      <th></th>\n",
       "      <th>bedroomcnt</th>\n",
       "      <th>bathroomcnt</th>\n",
       "      <th>calculatedfinishedsquarefeet</th>\n",
       "      <th>taxvaluedollarcnt</th>\n",
       "      <th>yearbuilt</th>\n",
       "      <th>taxamount</th>\n",
       "      <th>fips</th>\n",
       "      <th>propertylandusetypeid</th>\n",
       "      <th>baseline</th>\n",
       "      <th>yhat</th>\n",
       "      <th>residual</th>\n",
       "      <th>baseline_residual</th>\n",
       "    </tr>\n",
       "  </thead>\n",
       "  <tbody>\n",
       "    <tr>\n",
       "      <th>1667396</th>\n",
       "      <td>4.0</td>\n",
       "      <td>3.0</td>\n",
       "      <td>2281.0</td>\n",
       "      <td>398552.0</td>\n",
       "      <td>1994.0</td>\n",
       "      <td>5119.38</td>\n",
       "      <td>6059.0</td>\n",
       "      <td>261.0</td>\n",
       "      <td>399083.816953</td>\n",
       "      <td>511262.589142</td>\n",
       "      <td>-112710.589142</td>\n",
       "      <td>-531.816953</td>\n",
       "    </tr>\n",
       "    <tr>\n",
       "      <th>250527</th>\n",
       "      <td>4.0</td>\n",
       "      <td>2.0</td>\n",
       "      <td>1691.0</td>\n",
       "      <td>108264.0</td>\n",
       "      <td>1964.0</td>\n",
       "      <td>1500.33</td>\n",
       "      <td>6037.0</td>\n",
       "      <td>261.0</td>\n",
       "      <td>399083.816953</td>\n",
       "      <td>374110.022383</td>\n",
       "      <td>-265846.022383</td>\n",
       "      <td>-290819.816953</td>\n",
       "    </tr>\n",
       "    <tr>\n",
       "      <th>1334166</th>\n",
       "      <td>3.0</td>\n",
       "      <td>2.0</td>\n",
       "      <td>1677.0</td>\n",
       "      <td>135962.0</td>\n",
       "      <td>1969.0</td>\n",
       "      <td>1359.26</td>\n",
       "      <td>6059.0</td>\n",
       "      <td>261.0</td>\n",
       "      <td>399083.816953</td>\n",
       "      <td>370855.554697</td>\n",
       "      <td>-234893.554697</td>\n",
       "      <td>-263121.816953</td>\n",
       "    </tr>\n",
       "    <tr>\n",
       "      <th>195429</th>\n",
       "      <td>3.0</td>\n",
       "      <td>2.0</td>\n",
       "      <td>1627.0</td>\n",
       "      <td>101427.0</td>\n",
       "      <td>1942.0</td>\n",
       "      <td>1159.25</td>\n",
       "      <td>6037.0</td>\n",
       "      <td>261.0</td>\n",
       "      <td>399083.816953</td>\n",
       "      <td>359232.455820</td>\n",
       "      <td>-257805.455820</td>\n",
       "      <td>-297656.816953</td>\n",
       "    </tr>\n",
       "    <tr>\n",
       "      <th>49854</th>\n",
       "      <td>4.0</td>\n",
       "      <td>2.0</td>\n",
       "      <td>1146.0</td>\n",
       "      <td>37576.0</td>\n",
       "      <td>1955.0</td>\n",
       "      <td>736.77</td>\n",
       "      <td>6037.0</td>\n",
       "      <td>261.0</td>\n",
       "      <td>399083.816953</td>\n",
       "      <td>247418.244615</td>\n",
       "      <td>-209842.244615</td>\n",
       "      <td>-361507.816953</td>\n",
       "    </tr>\n",
       "  </tbody>\n",
       "</table>\n",
       "</div>"
      ],
      "text/plain": [
       "         bedroomcnt  bathroomcnt  calculatedfinishedsquarefeet  \\\n",
       "1667396         4.0          3.0                        2281.0   \n",
       "250527          4.0          2.0                        1691.0   \n",
       "1334166         3.0          2.0                        1677.0   \n",
       "195429          3.0          2.0                        1627.0   \n",
       "49854           4.0          2.0                        1146.0   \n",
       "\n",
       "         taxvaluedollarcnt  yearbuilt  taxamount    fips  \\\n",
       "1667396           398552.0     1994.0    5119.38  6059.0   \n",
       "250527            108264.0     1964.0    1500.33  6037.0   \n",
       "1334166           135962.0     1969.0    1359.26  6059.0   \n",
       "195429            101427.0     1942.0    1159.25  6037.0   \n",
       "49854              37576.0     1955.0     736.77  6037.0   \n",
       "\n",
       "         propertylandusetypeid       baseline           yhat       residual  \\\n",
       "1667396                  261.0  399083.816953  511262.589142 -112710.589142   \n",
       "250527                   261.0  399083.816953  374110.022383 -265846.022383   \n",
       "1334166                  261.0  399083.816953  370855.554697 -234893.554697   \n",
       "195429                   261.0  399083.816953  359232.455820 -257805.455820   \n",
       "49854                    261.0  399083.816953  247418.244615 -209842.244615   \n",
       "\n",
       "         baseline_residual  \n",
       "1667396        -531.816953  \n",
       "250527      -290819.816953  \n",
       "1334166     -263121.816953  \n",
       "195429      -297656.816953  \n",
       "49854       -361507.816953  "
      ]
     },
     "execution_count": 31,
     "metadata": {},
     "output_type": "execute_result"
    }
   ],
   "source": [
    "train.head()"
   ]
  },
  {
   "cell_type": "markdown",
   "id": "dbff08e2",
   "metadata": {},
   "source": [
    "Negative Residual = Prediction  high the actual observed value is lower than the predicted value. In other words, the prediction is higher than the actual value. This indicates that the model has overestimated the target variable.\n",
    "<br>\n",
    "Positive Residual = Prediction too low"
   ]
  },
  {
   "cell_type": "code",
   "execution_count": 32,
   "id": "68cfc88f",
   "metadata": {},
   "outputs": [
    {
     "data": {
      "image/png": "[encoded data removed]",
      "text/plain": [
       "<Figure size 792x360 with 2 Axes>"
      ]
     },
     "metadata": {
      "needs_background": "light"
     },
     "output_type": "display_data"
    }
   ],
   "source": [
    "# residual plots (x vs residual)\n",
    "\n",
    "plt.figure(figsize = (11,5))\n",
    "\n",
    "plt.subplot(121)\n",
    "plt.scatter(train.calculatedfinishedsquarefeet, train.baseline_residual)\n",
    "plt.axhline(y = 0, ls = ':', color='red')\n",
    "plt.xlabel('Square Feet')\n",
    "plt.ylabel('Residual')\n",
    "plt.title('Baseline Residuals')\n",
    "\n",
    "plt.subplot(122)\n",
    "plt.scatter(train.calculatedfinishedsquarefeet, train.residual)\n",
    "plt.axhline(y = 0, ls = ':', color ='red')\n",
    "plt.xlabel('Square Feet')\n",
    "plt.ylabel('Residual')\n",
    "plt.title('OLS model residuals');"
   ]
  },
  {
   "cell_type": "code",
   "execution_count": 33,
   "id": "8a7b9e45",
   "metadata": {},
   "outputs": [],
   "source": [
    "baseline_residual_min = train.baseline_residual.min()\n",
    "baseline_residual_max = train.baseline_residual.max()\n",
    "residual_min = train.residual.min()\n",
    "residual_max = train.residual.max()"
   ]
  },
  {
   "cell_type": "code",
   "execution_count": 34,
   "id": "55863080",
   "metadata": {},
   "outputs": [
    {
     "data": {
      "text/plain": [
       "(-13102372.129236577, 1872908.995131049)"
      ]
     },
     "execution_count": 34,
     "metadata": {},
     "output_type": "execute_result"
    }
   ],
   "source": [
    "residual_min, residual_max"
   ]
  },
  {
   "cell_type": "code",
   "execution_count": 35,
   "id": "a6e25dc0",
   "metadata": {},
   "outputs": [
    {
     "name": "stdout",
     "output_type": "stream",
     "text": [
      "Negative Residual = Prediction too high\n",
      "Positive Residual = Prediction too low\n"
     ]
    },
    {
     "data": {
      "image/png": "[encoded data removed]",
      "text/plain": [
       "<Figure size 792x360 with 2 Axes>"
      ]
     },
     "metadata": {
      "needs_background": "light"
     },
     "output_type": "display_data"
    }
   ],
   "source": [
    "# residual plots (x vs residual)\n",
    "\n",
    "plt.figure(figsize = (11,5))\n",
    "\n",
    "plt.subplot(121)\n",
    "plt.scatter(train.calculatedfinishedsquarefeet, train.baseline_residual, alpha=.05)\n",
    "plt.axhline(y = 0, ls = ':', color = 'red')\n",
    "plt.xlim(0,5000)\n",
    "plt.ylim(baseline_residual_min, baseline_residual_max)\n",
    "plt.xlabel('Square Feet')\n",
    "plt.ylabel('Residual')\n",
    "plt.title('Baseline Residuals')\n",
    "\n",
    "plt.subplot(122)\n",
    "plt.scatter(train.calculatedfinishedsquarefeet, train.residual, alpha=0.05)\n",
    "plt.axhline(y = 0, ls = ':', color ='red')\n",
    "plt.xlim(0,5000)\n",
    "plt.ylim(-1_000_000, residual_max)\n",
    "plt.xlabel('Square Feet')\n",
    "plt.ylabel('Residual')\n",
    "plt.title('OLS model residuals')\n",
    "print(\"Negative Residual = Prediction too high\")\n",
    "print(\"Positive Residual = Prediction too low\")"
   ]
  },
  {
   "cell_type": "markdown",
   "id": "e6a6d21b",
   "metadata": {},
   "source": [
    "### FINDINGS\n",
    "- Presence of a slope in the residual plot implies the necessity of incorporating additional predictors into the model."
   ]
  },
  {
   "cell_type": "code",
   "execution_count": 36,
   "id": "43d67846",
   "metadata": {},
   "outputs": [
    {
     "data": {
      "image/png": "[encoded data removed]",
      "text/plain": [
       "<Figure size 432x288 with 1 Axes>"
      ]
     },
     "metadata": {
      "needs_background": "light"
     },
     "output_type": "display_data"
    }
   ],
   "source": [
    "# Residual plot (y vs residual)\n",
    "actual = train.taxvaluedollarcnt\n",
    "predicted = train.yhat\n",
    "residuals = actual - predicted\n",
    "plt.hlines(0, actual.min(), actual.max(), ls=':')\n",
    "plt.scatter(actual, residuals)\n",
    "plt.ylabel('residual ($y - \\hat{y}$)')\n",
    "plt.xlabel('actual value ($y$)')\n",
    "plt.title('Actual vs Residual')\n",
    "plt.show()"
   ]
  },
  {
   "cell_type": "markdown",
   "id": "7df4d9b7",
   "metadata": {},
   "source": [
    "## <span style=\"color:blue\">4. Calculate the sum of squared errors, explained sum of squares, total sum of squares, mean squared error, and root mean squared error for your model."
   ]
  },
  {
   "cell_type": "markdown",
   "id": "c115b724",
   "metadata": {},
   "source": [
    "## <span style=\"color:blue\">5. Calculate the sum of squared errors, mean squared error, and root mean squared error for the baseline model (i.e. a model that always predicts the average taxvaluedollarcnt amount)."
   ]
  },
  {
   "cell_type": "code",
   "execution_count": 37,
   "id": "50107b61",
   "metadata": {},
   "outputs": [
    {
     "data": {
      "text/html": [
       "<div>\n",
       "<style scoped>\n",
       "    .dataframe tbody tr th:only-of-type {\n",
       "        vertical-align: middle;\n",
       "    }\n",
       "\n",
       "    .dataframe tbody tr th {\n",
       "        vertical-align: top;\n",
       "    }\n",
       "\n",
       "    .dataframe thead th {\n",
       "        text-align: right;\n",
       "    }\n",
       "</style>\n",
       "<table border=\"1\" class=\"dataframe\">\n",
       "  <thead>\n",
       "    <tr style=\"text-align: right;\">\n",
       "      <th></th>\n",
       "      <th>bedroomcnt</th>\n",
       "      <th>bathroomcnt</th>\n",
       "      <th>calculatedfinishedsquarefeet</th>\n",
       "      <th>taxvaluedollarcnt</th>\n",
       "      <th>yearbuilt</th>\n",
       "      <th>taxamount</th>\n",
       "      <th>fips</th>\n",
       "      <th>propertylandusetypeid</th>\n",
       "      <th>baseline</th>\n",
       "      <th>yhat</th>\n",
       "      <th>residual</th>\n",
       "      <th>baseline_residual</th>\n",
       "      <th>residual^2</th>\n",
       "      <th>baseline_residual^2</th>\n",
       "    </tr>\n",
       "  </thead>\n",
       "  <tbody>\n",
       "    <tr>\n",
       "      <th>1667396</th>\n",
       "      <td>4.0</td>\n",
       "      <td>3.0</td>\n",
       "      <td>2281.0</td>\n",
       "      <td>398552.0</td>\n",
       "      <td>1994.0</td>\n",
       "      <td>5119.38</td>\n",
       "      <td>6059.0</td>\n",
       "      <td>261.0</td>\n",
       "      <td>399083.816953</td>\n",
       "      <td>511262.589142</td>\n",
       "      <td>-112710.589142</td>\n",
       "      <td>-531.816953</td>\n",
       "      <td>1.270368e+10</td>\n",
       "      <td>2.828293e+05</td>\n",
       "    </tr>\n",
       "    <tr>\n",
       "      <th>250527</th>\n",
       "      <td>4.0</td>\n",
       "      <td>2.0</td>\n",
       "      <td>1691.0</td>\n",
       "      <td>108264.0</td>\n",
       "      <td>1964.0</td>\n",
       "      <td>1500.33</td>\n",
       "      <td>6037.0</td>\n",
       "      <td>261.0</td>\n",
       "      <td>399083.816953</td>\n",
       "      <td>374110.022383</td>\n",
       "      <td>-265846.022383</td>\n",
       "      <td>-290819.816953</td>\n",
       "      <td>7.067411e+10</td>\n",
       "      <td>8.457617e+10</td>\n",
       "    </tr>\n",
       "    <tr>\n",
       "      <th>1334166</th>\n",
       "      <td>3.0</td>\n",
       "      <td>2.0</td>\n",
       "      <td>1677.0</td>\n",
       "      <td>135962.0</td>\n",
       "      <td>1969.0</td>\n",
       "      <td>1359.26</td>\n",
       "      <td>6059.0</td>\n",
       "      <td>261.0</td>\n",
       "      <td>399083.816953</td>\n",
       "      <td>370855.554697</td>\n",
       "      <td>-234893.554697</td>\n",
       "      <td>-263121.816953</td>\n",
       "      <td>5.517498e+10</td>\n",
       "      <td>6.923309e+10</td>\n",
       "    </tr>\n",
       "    <tr>\n",
       "      <th>195429</th>\n",
       "      <td>3.0</td>\n",
       "      <td>2.0</td>\n",
       "      <td>1627.0</td>\n",
       "      <td>101427.0</td>\n",
       "      <td>1942.0</td>\n",
       "      <td>1159.25</td>\n",
       "      <td>6037.0</td>\n",
       "      <td>261.0</td>\n",
       "      <td>399083.816953</td>\n",
       "      <td>359232.455820</td>\n",
       "      <td>-257805.455820</td>\n",
       "      <td>-297656.816953</td>\n",
       "      <td>6.646365e+10</td>\n",
       "      <td>8.859958e+10</td>\n",
       "    </tr>\n",
       "    <tr>\n",
       "      <th>49854</th>\n",
       "      <td>4.0</td>\n",
       "      <td>2.0</td>\n",
       "      <td>1146.0</td>\n",
       "      <td>37576.0</td>\n",
       "      <td>1955.0</td>\n",
       "      <td>736.77</td>\n",
       "      <td>6037.0</td>\n",
       "      <td>261.0</td>\n",
       "      <td>399083.816953</td>\n",
       "      <td>247418.244615</td>\n",
       "      <td>-209842.244615</td>\n",
       "      <td>-361507.816953</td>\n",
       "      <td>4.403377e+10</td>\n",
       "      <td>1.306879e+11</td>\n",
       "    </tr>\n",
       "  </tbody>\n",
       "</table>\n",
       "</div>"
      ],
      "text/plain": [
       "         bedroomcnt  bathroomcnt  calculatedfinishedsquarefeet  \\\n",
       "1667396         4.0          3.0                        2281.0   \n",
       "250527          4.0          2.0                        1691.0   \n",
       "1334166         3.0          2.0                        1677.0   \n",
       "195429          3.0          2.0                        1627.0   \n",
       "49854           4.0          2.0                        1146.0   \n",
       "\n",
       "         taxvaluedollarcnt  yearbuilt  taxamount    fips  \\\n",
       "1667396           398552.0     1994.0    5119.38  6059.0   \n",
       "250527            108264.0     1964.0    1500.33  6037.0   \n",
       "1334166           135962.0     1969.0    1359.26  6059.0   \n",
       "195429            101427.0     1942.0    1159.25  6037.0   \n",
       "49854              37576.0     1955.0     736.77  6037.0   \n",
       "\n",
       "         propertylandusetypeid       baseline           yhat       residual  \\\n",
       "1667396                  261.0  399083.816953  511262.589142 -112710.589142   \n",
       "250527                   261.0  399083.816953  374110.022383 -265846.022383   \n",
       "1334166                  261.0  399083.816953  370855.554697 -234893.554697   \n",
       "195429                   261.0  399083.816953  359232.455820 -257805.455820   \n",
       "49854                    261.0  399083.816953  247418.244615 -209842.244615   \n",
       "\n",
       "         baseline_residual    residual^2  baseline_residual^2  \n",
       "1667396        -531.816953  1.270368e+10         2.828293e+05  \n",
       "250527      -290819.816953  7.067411e+10         8.457617e+10  \n",
       "1334166     -263121.816953  5.517498e+10         6.923309e+10  \n",
       "195429      -297656.816953  6.646365e+10         8.859958e+10  \n",
       "49854       -361507.816953  4.403377e+10         1.306879e+11  "
      ]
     },
     "execution_count": 37,
     "metadata": {},
     "output_type": "execute_result"
    }
   ],
   "source": [
    "train['residual^2'] = train.residual**2\n",
    "train['baseline_residual^2'] = train.baseline_residual**2\n",
    "\n",
    "train.head()"
   ]
  },
  {
   "cell_type": "markdown",
   "id": "94a9ab7c",
   "metadata": {},
   "source": [
    "<b>\n",
    "    Calculating SSE\n",
    "</b>"
   ]
  },
  {
   "cell_type": "code",
   "execution_count": 38,
   "id": "2b066b7c",
   "metadata": {},
   "outputs": [
    {
     "name": "stdout",
     "output_type": "stream",
     "text": [
      "SSE = 75650414104341584.0\n",
      "SSE Baseline = 114830824205326000.0\n"
     ]
    }
   ],
   "source": [
    "SSE = train['residual^2'].sum()\n",
    "SSE_baseline = train['baseline_residual^2'].sum()\n",
    "\n",
    "print('SSE =', \"{:.1f}\".format(SSE))\n",
    "print(\"SSE Baseline =\", \"{:.1f}\".format(SSE_baseline))"
   ]
  },
  {
   "cell_type": "code",
   "execution_count": 39,
   "id": "efb706a6",
   "metadata": {},
   "outputs": [
    {
     "data": {
      "text/plain": [
       "True"
      ]
     },
     "execution_count": 39,
     "metadata": {},
     "output_type": "execute_result"
    }
   ],
   "source": [
    "SSE < SSE_baseline"
   ]
  },
  {
   "cell_type": "markdown",
   "id": "f7ff362a",
   "metadata": {},
   "source": [
    "<b>\n",
    "    \n",
    "Calculating MSE\n",
    "\n",
    "</b>"
   ]
  },
  {
   "cell_type": "code",
   "execution_count": 40,
   "id": "6dd66333",
   "metadata": {},
   "outputs": [
    {
     "data": {
      "text/plain": [
       "1170051"
      ]
     },
     "execution_count": 40,
     "metadata": {},
     "output_type": "execute_result"
    }
   ],
   "source": [
    "len(train)\n",
    "train.shape[0]"
   ]
  },
  {
   "cell_type": "code",
   "execution_count": 41,
   "id": "286de663",
   "metadata": {},
   "outputs": [
    {
     "name": "stdout",
     "output_type": "stream",
     "text": [
      "MSE =  64655655270.0\n",
      "MSE baseline =  98141725621.6\n"
     ]
    }
   ],
   "source": [
    "MSE = SSE/len(train)\n",
    "MSE_baseline = SSE_baseline/len(train)\n",
    "\n",
    "print(\"MSE = \", \"{:.1f}\".format(MSE))\n",
    "print(\"MSE baseline = \", \"{:.1f}\".format(MSE_baseline))"
   ]
  },
  {
   "cell_type": "markdown",
   "id": "b7edeb47",
   "metadata": {},
   "source": [
    "<b>\n",
    "    \n",
    "Calculating RMSE\n",
    "\n",
    "</b>"
   ]
  },
  {
   "cell_type": "code",
   "execution_count": 42,
   "id": "bb491d7a",
   "metadata": {},
   "outputs": [
    {
     "name": "stdout",
     "output_type": "stream",
     "text": [
      "RMSE =  254274.8\n",
      "RMSE baseline =  313275.8\n"
     ]
    }
   ],
   "source": [
    "from math import sqrt\n",
    "RMSE = sqrt(MSE)\n",
    "RMSE_baseline =  sqrt(MSE_baseline)\n",
    "\n",
    "\n",
    "print(\"RMSE = \", \"{:.1f}\".format(RMSE))\n",
    "print(\"RMSE baseline = \", \"{:.1f}\".format(RMSE_baseline))"
   ]
  },
  {
   "cell_type": "markdown",
   "id": "efff5fb8",
   "metadata": {},
   "source": [
    "## 6. Write python code that compares the sum of squared errors for your model against the sum of squared errors for the baseline model and outputs whether or not your model performs better than the baseline model."
   ]
  },
  {
   "cell_type": "code",
   "execution_count": 43,
   "id": "fce087fc",
   "metadata": {},
   "outputs": [
    {
     "name": "stdout",
     "output_type": "stream",
     "text": [
      "OLS Regression Model Performs Better than Baseline\n"
     ]
    }
   ],
   "source": [
    "if SSE < SSE_baseline:\n",
    "    print('OLS Regression Model Performs Better than Baseline')\n",
    "else:\n",
    "    print('OLS Regression Model Performs Worse than Baseline')"
   ]
  },
  {
   "cell_type": "markdown",
   "id": "17ad20b1",
   "metadata": {},
   "source": [
    "## 7. What is the amount of variance explained in your model?"
   ]
  },
  {
   "cell_type": "code",
   "execution_count": 44,
   "id": "5990ad46",
   "metadata": {},
   "outputs": [
    {
     "data": {
      "text/plain": [
       "0.34120115719910665"
      ]
     },
     "execution_count": 44,
     "metadata": {},
     "output_type": "execute_result"
    }
   ],
   "source": [
    "# calculate R2 manually:\n",
    "\n",
    "# Total Sum of Squares = SSE for baseline\n",
    "TSS = SSE_baseline = train['baseline_residual^2'].sum()\n",
    "\n",
    "# Sum of squared error for the regression line (Unexplained error)\n",
    "SSE = train['residual^2'].sum()\n",
    "\n",
    "# ESS - Explained sum of squares ('Explained Error')\n",
    "ESS = TSS - SSE\n",
    "\n",
    "# Calculate R2\n",
    "R2 = ESS/TSS\n",
    "R2"
   ]
  },
  {
   "cell_type": "code",
   "execution_count": 45,
   "id": "783d1631",
   "metadata": {},
   "outputs": [
    {
     "data": {
      "text/plain": [
       "0.3412011571991066"
      ]
     },
     "execution_count": 45,
     "metadata": {},
     "output_type": "execute_result"
    }
   ],
   "source": [
    "# calculate R2 the easy way:\n",
    "\n",
    "from sklearn.metrics import r2_score\n",
    "r2_score(train.taxvaluedollarcnt, train.yhat)"
   ]
  },
  {
   "cell_type": "markdown",
   "id": "923a9b54",
   "metadata": {},
   "source": [
    "## Is your model better than the baseline model?"
   ]
  },
  {
   "cell_type": "code",
   "execution_count": 48,
   "id": "6d578ae5",
   "metadata": {},
   "outputs": [
    {
     "name": "stdout",
     "output_type": "stream",
     "text": [
      "                            OLS Regression Results                            \n",
      "==============================================================================\n",
      "Dep. Variable:      taxvaluedollarcnt   R-squared:                       0.341\n",
      "Model:                            OLS   Adj. R-squared:                  0.341\n",
      "Method:                 Least Squares   F-statistic:                 6.060e+05\n",
      "Date:                Sat, 04 Jun 2022   Prob (F-statistic):               0.00\n",
      "Time:                        20:05:24   Log-Likelihood:            -1.6223e+07\n",
      "No. Observations:             1170051   AIC:                         3.245e+07\n",
      "Df Residuals:                 1170049   BIC:                         3.245e+07\n",
      "Df Model:                           1                                         \n",
      "Covariance Type:            nonrobust                                         \n",
      "================================================================================================\n",
      "                                   coef    std err          t      P>|t|      [0.025      0.975]\n",
      "------------------------------------------------------------------------------------------------\n",
      "const                        -1.898e+04    586.244    -32.381      0.000   -2.01e+04   -1.78e+04\n",
      "calculatedfinishedsquarefeet   232.4620      0.299    778.450      0.000     231.877     233.047\n",
      "==============================================================================\n",
      "Omnibus:                   384138.370   Durbin-Watson:                   1.999\n",
      "Prob(Omnibus):                  0.000   Jarque-Bera (JB):          6051667.495\n",
      "Skew:                           1.157   Prob(JB):                         0.00\n",
      "Kurtosis:                      13.898   Cond. No.                     4.90e+03\n",
      "==============================================================================\n",
      "\n",
      "Notes:\n",
      "[1] Standard Errors assume that the covariance matrix of the errors is correctly specified.\n",
      "[2] The condition number is large, 4.9e+03. This might indicate that there are\n",
      "strong multicollinearity or other numerical problems.\n"
     ]
    }
   ],
   "source": [
    "X2 = sm.add_constant(train.calculatedfinishedsquarefeet)\n",
    "est = sm.OLS(train.taxvaluedollarcnt, X2)\n",
    "est2 = est.fit()\n",
    "print(est2.summary())"
   ]
  },
  {
   "cell_type": "markdown",
   "id": "3925a25d",
   "metadata": {},
   "source": [
    "- OLS Regression Model outperformed baseline model on test using RMSE as evaluation metric\n",
    "- - OLS Regression Model RMSE: 272306.6\n",
    "- - Baseline Regression Model: 313748.0\n",
    "\n",
    "However, overall the OLS Regression Model does a poor job of evaluating home price. The dollar amount of error would be unacceptable to any buyer/seller."
   ]
  },
  {
   "cell_type": "markdown",
   "id": "a3560421",
   "metadata": {},
   "source": [
    "## 9. Create a file named evaluate.py that contains the following functions."
   ]
  },
  {
   "cell_type": "code",
   "execution_count": 49,
   "id": "da2205d4",
   "metadata": {},
   "outputs": [],
   "source": [
    "def plot_residuals(actual, predicted):\n",
    "    residuals = actual - predicted\n",
    "    plt.hlines(0, actual.min(), actual.max(), ls=':')\n",
    "    plt.scatter(actual, residuals)\n",
    "    plt.ylabel('residual ($y - \\hat{y}$)')\n",
    "    plt.xlabel('actual value ($y$)')\n",
    "    plt.title('Actual vs Residual')\n",
    "    plt.show()"
   ]
  },
  {
   "cell_type": "code",
   "execution_count": 50,
   "id": "5a87200e",
   "metadata": {},
   "outputs": [],
   "source": [
    "def residuals(actual, predicted):\n",
    "    return actual - predicted\n",
    "\n",
    "def sse(actual, predicted):\n",
    "    return (residuals(actual, predicted) **2).sum()\n",
    "\n",
    "def mse(actual, predicted):\n",
    "    n = actual.shape[0]\n",
    "    return sse(actual, predicted) / n\n",
    "\n",
    "def rmse(actual, predicted):\n",
    "    return math.sqrt(mse(actual, predicted))\n",
    "\n",
    "def ess(actual, predicted):\n",
    "    return ((predicted - actual.mean()) ** 2).sum()\n",
    "\n",
    "def tss(actual):\n",
    "    return ((actual - actual.mean()) ** 2).sum()\n",
    "\n",
    "def r2_score(actual, predicted):\n",
    "    return ess(actual, predicted) / tss(actual)"
   ]
  },
  {
   "cell_type": "code",
   "execution_count": 51,
   "id": "b5410ee8",
   "metadata": {},
   "outputs": [],
   "source": [
    "def regression_errors(actual, predicted):\n",
    "    return pd.Series({\n",
    "        'sse': sse(actual, predicted),\n",
    "        'ess': ess(actual, predicted),\n",
    "        'tss': tss(actual),\n",
    "        'mse': mse(actual, predicted),\n",
    "        'rmse': rmse(actual, predicted),\n",
    "    })\n",
    "\n",
    "def baseline_mean_errors(actual):\n",
    "    predicted = actual.mean()\n",
    "    return {\n",
    "        'sse': sse(actual, predicted),\n",
    "        'mse': mse(actual, predicted),\n",
    "        'rmse': rmse(actual, predicted),\n",
    "    }\n",
    "\n",
    "def better_than_baseline(actual, predicted):\n",
    "    rmse_baseline = rmse(actual, actual.mean())\n",
    "    rmse_model = rmse(actual, predicted)\n",
    "    return rmse_model < rmse_baseline"
   ]
  }
 ],
 "metadata": {
  "kernelspec": {
   "display_name": "Python 3 (ipykernel)",
   "language": "python",
   "name": "python3"
  },
  "language_info": {
   "codemirror_mode": {
    "name": "ipython",
    "version": 3
   },
   "file_extension": ".py",
   "mimetype": "text/x-python",
   "name": "python",
   "nbconvert_exporter": "python",
   "pygments_lexer": "ipython3",
   "version": "3.10.9"
  }
 },
 "nbformat": 4,
 "nbformat_minor": 5
}
